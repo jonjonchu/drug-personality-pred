{
 "cells": [
  {
   "cell_type": "markdown",
   "metadata": {},
   "source": [
    "# Creating a SQL database\n",
    "This notebook assumes that you have PSQL already installed on your local machine and will create a PSQL database named ```drug_consumption```."
   ]
  },
  {
   "cell_type": "code",
   "execution_count": 1,
   "metadata": {
    "ExecuteTime": {
     "end_time": "2020-05-05T21:03:38.606827Z",
     "start_time": "2020-05-05T21:03:37.166367Z"
    }
   },
   "outputs": [],
   "source": [
    "import pandas as pd"
   ]
  },
  {
   "cell_type": "markdown",
   "metadata": {
    "heading_collapsed": true
   },
   "source": [
    "# Filenames"
   ]
  },
  {
   "cell_type": "code",
   "execution_count": 2,
   "metadata": {
    "ExecuteTime": {
     "end_time": "2020-05-05T21:03:38.628212Z",
     "start_time": "2020-05-05T21:03:38.611075Z"
    },
    "hidden": true
   },
   "outputs": [],
   "source": [
    "features_name = 'features'\n",
    "features_csv_filename = \"drugC_features.csv\""
   ]
  },
  {
   "cell_type": "code",
   "execution_count": 3,
   "metadata": {
    "ExecuteTime": {
     "end_time": "2020-05-05T21:03:38.645292Z",
     "start_time": "2020-05-05T21:03:38.638168Z"
    },
    "hidden": true
   },
   "outputs": [],
   "source": [
    "responses_name = \"drug_data\"\n",
    "responses_csv_filename = \"drugC_responses.csv\""
   ]
  },
  {
   "cell_type": "markdown",
   "metadata": {
    "heading_collapsed": true
   },
   "source": [
    "# Split data into tables and save as .csv\n",
    "Read cleaned .pkl data into pandas and split data into one dataframe per table."
   ]
  },
  {
   "cell_type": "code",
   "execution_count": 4,
   "metadata": {
    "ExecuteTime": {
     "end_time": "2020-05-05T21:03:38.687634Z",
     "start_time": "2020-05-05T21:03:38.661712Z"
    },
    "hidden": true
   },
   "outputs": [],
   "source": [
    "features = (['age','gender','education','country','ethnicity','nscore',\n",
    "            'escore','oscore','ascore','cscore','impulsiveness','ss'])"
   ]
  },
  {
   "cell_type": "code",
   "execution_count": 5,
   "metadata": {
    "ExecuteTime": {
     "end_time": "2020-05-05T21:03:38.712179Z",
     "start_time": "2020-05-05T21:03:38.704504Z"
    },
    "hidden": true
   },
   "outputs": [],
   "source": [
    "drug_list = (['alcohol','amphet','amyl','benzos','caff','cannabis','choc','coke','crack',\n",
    "              'ecstasy','heroin','ketamine','legalh','lsd','meth','mushrooms','nicotine','semer','vsa'])"
   ]
  },
  {
   "cell_type": "code",
   "execution_count": 6,
   "metadata": {
    "ExecuteTime": {
     "end_time": "2020-05-05T21:03:39.406321Z",
     "start_time": "2020-05-05T21:03:38.781962Z"
    },
    "hidden": true
   },
   "outputs": [
    {
     "name": "stdout",
     "output_type": "stream",
     "text": [
      "<class 'pandas.core.frame.DataFrame'>\n",
      "Int64Index: 1885 entries, 1 to 1888\n",
      "Data columns (total 31 columns):\n",
      " #   Column         Non-Null Count  Dtype  \n",
      "---  ------         --------------  -----  \n",
      " 0   age            1885 non-null   float64\n",
      " 1   gender         1885 non-null   float64\n",
      " 2   education      1885 non-null   float64\n",
      " 3   country        1885 non-null   float64\n",
      " 4   ethnicity      1885 non-null   float64\n",
      " 5   nscore         1885 non-null   float64\n",
      " 6   escore         1885 non-null   float64\n",
      " 7   oscore         1885 non-null   float64\n",
      " 8   ascore         1885 non-null   float64\n",
      " 9   cscore         1885 non-null   float64\n",
      " 10  impulsiveness  1885 non-null   float64\n",
      " 11  ss             1885 non-null   float64\n",
      " 12  alcohol        1885 non-null   int16  \n",
      " 13  amphet         1885 non-null   int16  \n",
      " 14  amyl           1885 non-null   int16  \n",
      " 15  benzos         1885 non-null   int16  \n",
      " 16  caff           1885 non-null   int16  \n",
      " 17  cannabis       1885 non-null   int16  \n",
      " 18  choc           1885 non-null   int16  \n",
      " 19  coke           1885 non-null   int16  \n",
      " 20  crack          1885 non-null   int16  \n",
      " 21  ecstasy        1885 non-null   int16  \n",
      " 22  heroin         1885 non-null   int16  \n",
      " 23  ketamine       1885 non-null   int16  \n",
      " 24  legalh         1885 non-null   int16  \n",
      " 25  lsd            1885 non-null   int16  \n",
      " 26  meth           1885 non-null   int16  \n",
      " 27  mushrooms      1885 non-null   int16  \n",
      " 28  nicotine       1885 non-null   int16  \n",
      " 29  semer          1885 non-null   int16  \n",
      " 30  vsa            1885 non-null   int16  \n",
      "dtypes: float64(12), int16(19)\n",
      "memory usage: 261.4 KB\n"
     ]
    }
   ],
   "source": [
    "df = pd.read_pickle('./data/drug_consumption_cleaned.pkl')\n",
    "df.info()"
   ]
  },
  {
   "cell_type": "markdown",
   "metadata": {
    "heading_collapsed": true,
    "hidden": true
   },
   "source": [
    "## Features: df_features"
   ]
  },
  {
   "cell_type": "code",
   "execution_count": 7,
   "metadata": {
    "ExecuteTime": {
     "end_time": "2020-05-05T21:03:39.455667Z",
     "start_time": "2020-05-05T21:03:39.410052Z"
    },
    "hidden": true
   },
   "outputs": [
    {
     "name": "stdout",
     "output_type": "stream",
     "text": [
      "<class 'pandas.core.frame.DataFrame'>\n",
      "Int64Index: 1885 entries, 1 to 1888\n",
      "Data columns (total 12 columns):\n",
      " #   Column         Non-Null Count  Dtype  \n",
      "---  ------         --------------  -----  \n",
      " 0   age            1885 non-null   float64\n",
      " 1   gender         1885 non-null   float64\n",
      " 2   education      1885 non-null   float64\n",
      " 3   country        1885 non-null   float64\n",
      " 4   ethnicity      1885 non-null   float64\n",
      " 5   nscore         1885 non-null   float64\n",
      " 6   escore         1885 non-null   float64\n",
      " 7   oscore         1885 non-null   float64\n",
      " 8   ascore         1885 non-null   float64\n",
      " 9   cscore         1885 non-null   float64\n",
      " 10  impulsiveness  1885 non-null   float64\n",
      " 11  ss             1885 non-null   float64\n",
      "dtypes: float64(12)\n",
      "memory usage: 191.4 KB\n"
     ]
    }
   ],
   "source": [
    "df_features = df[features]\n",
    "df_features.info()"
   ]
  },
  {
   "cell_type": "markdown",
   "metadata": {
    "heading_collapsed": true,
    "hidden": true
   },
   "source": [
    "## Responses (drugs): df_responses"
   ]
  },
  {
   "cell_type": "code",
   "execution_count": 8,
   "metadata": {
    "ExecuteTime": {
     "end_time": "2020-05-05T21:03:39.504620Z",
     "start_time": "2020-05-05T21:03:39.462570Z"
    },
    "hidden": true
   },
   "outputs": [
    {
     "name": "stdout",
     "output_type": "stream",
     "text": [
      "<class 'pandas.core.frame.DataFrame'>\n",
      "Int64Index: 1885 entries, 1 to 1888\n",
      "Data columns (total 19 columns):\n",
      " #   Column     Non-Null Count  Dtype\n",
      "---  ------     --------------  -----\n",
      " 0   alcohol    1885 non-null   int16\n",
      " 1   amphet     1885 non-null   int16\n",
      " 2   amyl       1885 non-null   int16\n",
      " 3   benzos     1885 non-null   int16\n",
      " 4   caff       1885 non-null   int16\n",
      " 5   cannabis   1885 non-null   int16\n",
      " 6   choc       1885 non-null   int16\n",
      " 7   coke       1885 non-null   int16\n",
      " 8   crack      1885 non-null   int16\n",
      " 9   ecstasy    1885 non-null   int16\n",
      " 10  heroin     1885 non-null   int16\n",
      " 11  ketamine   1885 non-null   int16\n",
      " 12  legalh     1885 non-null   int16\n",
      " 13  lsd        1885 non-null   int16\n",
      " 14  meth       1885 non-null   int16\n",
      " 15  mushrooms  1885 non-null   int16\n",
      " 16  nicotine   1885 non-null   int16\n",
      " 17  semer      1885 non-null   int16\n",
      " 18  vsa        1885 non-null   int16\n",
      "dtypes: int16(19)\n",
      "memory usage: 84.7 KB\n"
     ]
    }
   ],
   "source": [
    "df_responses = df[drug_list]\n",
    "df_responses.info()"
   ]
  },
  {
   "cell_type": "markdown",
   "metadata": {
    "heading_collapsed": true,
    "hidden": true
   },
   "source": [
    "## Save split data to .csv"
   ]
  },
  {
   "cell_type": "code",
   "execution_count": 9,
   "metadata": {
    "ExecuteTime": {
     "end_time": "2020-05-05T21:03:39.690422Z",
     "start_time": "2020-05-05T21:03:39.509562Z"
    },
    "hidden": true
   },
   "outputs": [],
   "source": [
    "df_features.to_csv('./data/'+features_csv_filename)"
   ]
  },
  {
   "cell_type": "code",
   "execution_count": 10,
   "metadata": {
    "ExecuteTime": {
     "end_time": "2020-05-05T21:03:39.737238Z",
     "start_time": "2020-05-05T21:03:39.695172Z"
    },
    "hidden": true
   },
   "outputs": [],
   "source": [
    "df_responses.to_csv('./data/'+responses_csv_filename)"
   ]
  },
  {
   "cell_type": "markdown",
   "metadata": {},
   "source": [
    "# Database setup\n",
    "Here we'll create a sql setup file that we can pass to psql in order to automate the whole process."
   ]
  },
  {
   "cell_type": "markdown",
   "metadata": {
    "heading_collapsed": true
   },
   "source": [
    "## Create table statement function"
   ]
  },
  {
   "cell_type": "code",
   "execution_count": 11,
   "metadata": {
    "ExecuteTime": {
     "end_time": "2020-05-05T21:03:39.786355Z",
     "start_time": "2020-05-05T21:03:39.743606Z"
    },
    "hidden": true
   },
   "outputs": [],
   "source": [
    "def create_table_statement(df, table_name):\n",
    "    \"\"\"\n",
    "        Helper function to make \"CREATE TABLE\" statement for psql\n",
    "        \n",
    "        :param df: a pandas DateFrame object\n",
    "        :param table_name: name of new table in psql as string\n",
    "        :return create_table: \"CREATE TABLE\" statement for psql as string\n",
    "    \"\"\"\n",
    "    \n",
    "    col_names = df.dtypes.index.values\n",
    "    dtypes = df.dtypes.values\n",
    "\n",
    "    #every name in psql is lowercase by default\n",
    "    table_name = table_name.lower()\n",
    "\n",
    "    #statement for creating the table in psql\n",
    "    create_table = \"CREATE TABLE IF NOT EXISTS %s (\\n\" %table_name\n",
    "    \n",
    "    #add index\n",
    "    create_table += \"\\tid int NOT NULL,\\n\"\n",
    "\n",
    "    for idx, col_name in enumerate(col_names):\n",
    "        #get the datatype for the current column\n",
    "        dtype = dtypes[idx]\n",
    "\n",
    "        #lowercase and remove spaces from column names\n",
    "        col_name = col_name.lower().replace(' ', '_')\n",
    "        #simply formatting so it prints more cleanly\n",
    "        create_table += \"\\t\"\n",
    "\n",
    "        #assign column types and default values of null\n",
    "        if dtype == 'int64':\n",
    "            create_table = create_table + col_name + \" INT DEFAULT NULL\"\n",
    "\n",
    "        elif dtype == 'int16':\n",
    "            create_table = create_table + col_name + \" INT DEFAULT NULL\"\n",
    "\n",
    "        elif dtype == 'object':\n",
    "            create_table = create_table + col_name + \" VARCHAR DEFAULT NULL\"\n",
    "\n",
    "        elif dtype == 'float64':\n",
    "            create_table = create_table + col_name + \" DECIMAL DEFAULT NULL\"\n",
    "\n",
    "        #add a comma and start next line on \n",
    "        #another line for cleaner print format\n",
    "        #if this is not the last line\n",
    "        if idx != len(col_names) - 1:\n",
    "            create_table += \", \\n\"\n",
    "    # primary key\n",
    "    create_table += \",\\n\\tPRIMARY KEY (id)\"\n",
    "    #newline for cleaner print format and ; for execution\n",
    "    create_table += \"\\n);\"\n",
    "\n",
    "    print(create_table)\n",
    "    \n",
    "    return create_table"
   ]
  },
  {
   "cell_type": "markdown",
   "metadata": {
    "heading_collapsed": true
   },
   "source": [
    "## Implement table statements"
   ]
  },
  {
   "cell_type": "code",
   "execution_count": 12,
   "metadata": {
    "ExecuteTime": {
     "end_time": "2020-05-05T21:03:39.815537Z",
     "start_time": "2020-05-05T21:03:39.799344Z"
    },
    "hidden": true
   },
   "outputs": [
    {
     "name": "stdout",
     "output_type": "stream",
     "text": [
      "CREATE TABLE IF NOT EXISTS features (\n",
      "\tid int NOT NULL,\n",
      "\tage DECIMAL DEFAULT NULL, \n",
      "\tgender DECIMAL DEFAULT NULL, \n",
      "\teducation DECIMAL DEFAULT NULL, \n",
      "\tcountry DECIMAL DEFAULT NULL, \n",
      "\tethnicity DECIMAL DEFAULT NULL, \n",
      "\tnscore DECIMAL DEFAULT NULL, \n",
      "\tescore DECIMAL DEFAULT NULL, \n",
      "\toscore DECIMAL DEFAULT NULL, \n",
      "\tascore DECIMAL DEFAULT NULL, \n",
      "\tcscore DECIMAL DEFAULT NULL, \n",
      "\timpulsiveness DECIMAL DEFAULT NULL, \n",
      "\tss DECIMAL DEFAULT NULL,\n",
      "\tPRIMARY KEY (id)\n",
      ");\n"
     ]
    }
   ],
   "source": [
    "table_features = create_table_statement(df_features, features_name)"
   ]
  },
  {
   "cell_type": "code",
   "execution_count": 13,
   "metadata": {
    "ExecuteTime": {
     "end_time": "2020-05-05T21:03:39.889691Z",
     "start_time": "2020-05-05T21:03:39.847444Z"
    },
    "hidden": true
   },
   "outputs": [
    {
     "name": "stdout",
     "output_type": "stream",
     "text": [
      "CREATE TABLE IF NOT EXISTS drug_data (\n",
      "\tid int NOT NULL,\n",
      "\talcohol INT DEFAULT NULL, \n",
      "\tamphet INT DEFAULT NULL, \n",
      "\tamyl INT DEFAULT NULL, \n",
      "\tbenzos INT DEFAULT NULL, \n",
      "\tcaff INT DEFAULT NULL, \n",
      "\tcannabis INT DEFAULT NULL, \n",
      "\tchoc INT DEFAULT NULL, \n",
      "\tcoke INT DEFAULT NULL, \n",
      "\tcrack INT DEFAULT NULL, \n",
      "\tecstasy INT DEFAULT NULL, \n",
      "\theroin INT DEFAULT NULL, \n",
      "\tketamine INT DEFAULT NULL, \n",
      "\tlegalh INT DEFAULT NULL, \n",
      "\tlsd INT DEFAULT NULL, \n",
      "\tmeth INT DEFAULT NULL, \n",
      "\tmushrooms INT DEFAULT NULL, \n",
      "\tnicotine INT DEFAULT NULL, \n",
      "\tsemer INT DEFAULT NULL, \n",
      "\tvsa INT DEFAULT NULL,\n",
      "\tPRIMARY KEY (id)\n",
      ");\n"
     ]
    }
   ],
   "source": [
    "table_responses = create_table_statement(df_responses, responses_name )"
   ]
  },
  {
   "cell_type": "markdown",
   "metadata": {
    "heading_collapsed": true
   },
   "source": [
    "## Create copy statement function"
   ]
  },
  {
   "cell_type": "code",
   "execution_count": 14,
   "metadata": {
    "ExecuteTime": {
     "end_time": "2020-05-05T21:03:39.912560Z",
     "start_time": "2020-05-05T21:03:39.899898Z"
    },
    "hidden": true
   },
   "outputs": [],
   "source": [
    "def create_copy_statement(table_name, table_csv_filename):\n",
    "    copy_statement = \"\\copy \"+ table_name +\" FROM '\"+ table_csv_filename +\"' DELIMITER ',' CSV HEADER;\"\n",
    "    return copy_statement"
   ]
  },
  {
   "cell_type": "markdown",
   "metadata": {
    "heading_collapsed": true
   },
   "source": [
    "## Implement copy statements"
   ]
  },
  {
   "cell_type": "code",
   "execution_count": 15,
   "metadata": {
    "ExecuteTime": {
     "end_time": "2020-05-05T21:03:39.970468Z",
     "start_time": "2020-05-05T21:03:39.930906Z"
    },
    "hidden": true
   },
   "outputs": [
    {
     "data": {
      "text/plain": [
       "\"\\\\copy features FROM './data/drugC_features.csv' DELIMITER ',' CSV HEADER;\""
      ]
     },
     "execution_count": 15,
     "metadata": {},
     "output_type": "execute_result"
    }
   ],
   "source": [
    "copy_features = create_copy_statement(features_name, './data/'+features_csv_filename)\n",
    "copy_features"
   ]
  },
  {
   "cell_type": "code",
   "execution_count": 16,
   "metadata": {
    "ExecuteTime": {
     "end_time": "2020-05-05T21:03:40.000962Z",
     "start_time": "2020-05-05T21:03:39.978665Z"
    },
    "hidden": true
   },
   "outputs": [
    {
     "data": {
      "text/plain": [
       "\"\\\\copy drug_data FROM './data/drugC_responses.csv' DELIMITER ',' CSV HEADER;\""
      ]
     },
     "execution_count": 16,
     "metadata": {},
     "output_type": "execute_result"
    }
   ],
   "source": [
    "copy_responses = create_copy_statement(responses_name, './data/'+responses_csv_filename)\n",
    "copy_responses"
   ]
  },
  {
   "cell_type": "markdown",
   "metadata": {
    "heading_collapsed": true
   },
   "source": [
    "## Save statements to .sql files for use with psql"
   ]
  },
  {
   "cell_type": "code",
   "execution_count": 17,
   "metadata": {
    "ExecuteTime": {
     "end_time": "2020-05-05T21:03:40.026272Z",
     "start_time": "2020-05-05T21:03:40.009945Z"
    },
    "hidden": true
   },
   "outputs": [],
   "source": [
    "# table_features, table_responses, copy_features, copy_responses\n",
    "sql_setup_filename = \"drug_db_setup.sql\""
   ]
  },
  {
   "cell_type": "code",
   "execution_count": 18,
   "metadata": {
    "ExecuteTime": {
     "end_time": "2020-05-05T21:03:40.056954Z",
     "start_time": "2020-05-05T21:03:40.036454Z"
    },
    "hidden": true
   },
   "outputs": [
    {
     "name": "stdout",
     "output_type": "stream",
     "text": [
      "[28, 456, 584, 75, 77]\n"
     ]
    }
   ],
   "source": [
    "chars_written = []\n",
    "\n",
    "sql_setup_file = open(sql_setup_filename,'w')\n",
    "\n",
    "# write() returns # of characters written - let's save that in chars_written\n",
    "chars_written.append(sql_setup_file.write('\\connect drug_consumption;\\n\\n'))\n",
    "\n",
    "chars_written.append(sql_setup_file.write(table_features+'\\n\\n'))\n",
    "\n",
    "chars_written.append(sql_setup_file.write(table_responses+'\\n\\n'))\n",
    "\n",
    "chars_written.append(sql_setup_file.write(copy_features+'\\n\\n'))\n",
    "\n",
    "chars_written.append(sql_setup_file.write(copy_responses+'\\n\\n'))\n",
    "\n",
    "sql_setup_file.close()\n",
    "\n",
    "print(chars_written)"
   ]
  },
  {
   "cell_type": "markdown",
   "metadata": {
    "heading_collapsed": true
   },
   "source": [
    "# Terminal commands"
   ]
  },
  {
   "cell_type": "markdown",
   "metadata": {
    "hidden": true
   },
   "source": [
    "Create the database."
   ]
  },
  {
   "cell_type": "code",
   "execution_count": 19,
   "metadata": {
    "ExecuteTime": {
     "end_time": "2020-05-05T21:03:40.074408Z",
     "start_time": "2020-05-05T21:03:40.067422Z"
    },
    "hidden": true
   },
   "outputs": [],
   "source": [
    "# Uncomment if you haven't yet created the database\n",
    "!psql -c 'CREATE DATABASE drug_consumption'"
   ]
  },
  {
   "cell_type": "code",
   "execution_count": 20,
   "metadata": {
    "ExecuteTime": {
     "end_time": "2020-05-05T21:03:40.642081Z",
     "start_time": "2020-05-05T21:03:40.118373Z"
    },
    "hidden": true
   },
   "outputs": [
    {
     "name": "stdout",
     "output_type": "stream",
     "text": [
      "drug_db_setup.sql\n",
      "You are now connected to database \"drug_consumption\" as user \"kibbles\".\n",
      "psql:drug_db_setup.sql:18: NOTICE:  relation \"features\" already exists, skipping\n",
      "CREATE TABLE\n",
      "psql:drug_db_setup.sql:42: NOTICE:  relation \"drug_data\" already exists, skipping\n",
      "CREATE TABLE\n",
      "COPY 1885\n",
      "COPY 1885\n"
     ]
    }
   ],
   "source": [
    "!echo $sql_setup_filename\n",
    "!psql -f $sql_setup_filename"
   ]
  },
  {
   "cell_type": "markdown",
   "metadata": {
    "heading_collapsed": true
   },
   "source": [
    "# Cleanup\n",
    "Removing local temp files."
   ]
  },
  {
   "cell_type": "code",
   "execution_count": 21,
   "metadata": {
    "ExecuteTime": {
     "end_time": "2020-05-05T21:03:40.736539Z",
     "start_time": "2020-05-05T21:03:40.662405Z"
    },
    "hidden": true
   },
   "outputs": [
    {
     "name": "stdout",
     "output_type": "stream",
     "text": [
      "drug_db_setup.sql  Removed setup file!\n",
      "Removed temporary csv files in ./data/\n"
     ]
    }
   ],
   "source": [
    "cleanup = True\n",
    "if cleanup:\n",
    "    import os\n",
    "    os.remove(sql_setup_filename)\n",
    "    print(sql_setup_filename, \" Removed setup file!\")\n",
    "    os.remove('./data/'+features_csv_filename)\n",
    "    os.remove('./data/'+responses_csv_filename)\n",
    "    print('Removed temporary csv files in ./data/')"
   ]
  },
  {
   "cell_type": "code",
   "execution_count": null,
   "metadata": {
    "hidden": true
   },
   "outputs": [],
   "source": []
  }
 ],
 "metadata": {
  "kernelspec": {
   "display_name": "Python [conda env:metis] *",
   "language": "python",
   "name": "conda-env-metis-py"
  },
  "language_info": {
   "codemirror_mode": {
    "name": "ipython",
    "version": 3
   },
   "file_extension": ".py",
   "mimetype": "text/x-python",
   "name": "python",
   "nbconvert_exporter": "python",
   "pygments_lexer": "ipython3",
   "version": "3.7.7"
  },
  "toc": {
   "base_numbering": 1,
   "nav_menu": {},
   "number_sections": true,
   "sideBar": true,
   "skip_h1_title": false,
   "title_cell": "Table of Contents",
   "title_sidebar": "Contents",
   "toc_cell": false,
   "toc_position": {},
   "toc_section_display": true,
   "toc_window_display": false
  },
  "varInspector": {
   "cols": {
    "lenName": 16,
    "lenType": 16,
    "lenVar": 40
   },
   "kernels_config": {
    "python": {
     "delete_cmd_postfix": "",
     "delete_cmd_prefix": "del ",
     "library": "var_list.py",
     "varRefreshCmd": "print(var_dic_list())"
    },
    "r": {
     "delete_cmd_postfix": ") ",
     "delete_cmd_prefix": "rm(",
     "library": "var_list.r",
     "varRefreshCmd": "cat(var_dic_list()) "
    }
   },
   "types_to_exclude": [
    "module",
    "function",
    "builtin_function_or_method",
    "instance",
    "_Feature"
   ],
   "window_display": false
  }
 },
 "nbformat": 4,
 "nbformat_minor": 4
}
