{
 "cells": [
  {
   "cell_type": "markdown",
   "metadata": {},
   "source": [
    "<a id='START'></a>"
   ]
  },
  {
   "cell_type": "markdown",
   "metadata": {
    "heading_collapsed": true
   },
   "source": [
    "# Model Network\n",
    "Create a linked ensemble of models to more accurately predict drug use"
   ]
  },
  {
   "cell_type": "code",
   "execution_count": 1,
   "metadata": {
    "ExecuteTime": {
     "end_time": "2020-05-06T05:54:04.782768Z",
     "start_time": "2020-05-06T05:54:00.147502Z"
    },
    "hidden": true
   },
   "outputs": [],
   "source": [
    "import pandas as pd\n",
    "import numpy as np\n",
    "import pickle\n",
    "import matplotlib.pyplot as plt"
   ]
  },
  {
   "cell_type": "code",
   "execution_count": 2,
   "metadata": {
    "ExecuteTime": {
     "end_time": "2020-05-06T05:54:08.342966Z",
     "start_time": "2020-05-06T05:54:04.787447Z"
    },
    "hidden": true
   },
   "outputs": [],
   "source": [
    "from sklearn.model_selection import train_test_split, RandomizedSearchCV\n",
    "\n",
    "from xgboost import XGBClassifier\n",
    "\n",
    "from sklearn.metrics import confusion_matrix, roc_auc_score, roc_curve"
   ]
  },
  {
   "cell_type": "markdown",
   "metadata": {
    "hidden": true
   },
   "source": [
    "___"
   ]
  },
  {
   "cell_type": "markdown",
   "metadata": {
    "hidden": true
   },
   "source": [
    "<a id='fit_model'></a>"
   ]
  },
  {
   "cell_type": "markdown",
   "metadata": {
    "heading_collapsed": true,
    "hidden": true
   },
   "source": [
    "## Custom functions"
   ]
  },
  {
   "cell_type": "code",
   "execution_count": 3,
   "metadata": {
    "ExecuteTime": {
     "end_time": "2020-05-06T05:54:08.398837Z",
     "start_time": "2020-05-06T05:54:08.346594Z"
    },
    "hidden": true
   },
   "outputs": [],
   "source": [
    "def plot_train_test_split_distrib(y_train, y_test):\n",
    "    '''\n",
    "    Quick, flawed function to plot distributions of drugs in training and testing splits\n",
    "    '''\n",
    "    train_test_split_distributions = pd.DataFrame(columns=['Train','Test'], index=y_train.columns)\n",
    "\n",
    "    for column in y_train:\n",
    "        df = y_train[column].value_counts()\n",
    "        df2 = y_test[column].value_counts()\n",
    "\n",
    "        train_pct = df.iloc[1] / df.iloc[0]\n",
    "        test_pct  = df2.iloc[1] / df2.iloc[0]\n",
    "\n",
    "        train_test_split_distributions.loc[column] = [train_pct, test_pct]\n",
    "    fig = train_test_split_distributions.plot.bar(figsize=(14,3));\n",
    "    plt.xticks(rotation=45, fontsize=14);\n",
    "    return fig\n"
   ]
  },
  {
   "cell_type": "code",
   "execution_count": 4,
   "metadata": {
    "ExecuteTime": {
     "end_time": "2020-05-06T05:54:08.463884Z",
     "start_time": "2020-05-06T05:54:08.417062Z"
    },
    "hidden": true
   },
   "outputs": [],
   "source": [
    "def fit_model(model, model_features, model_response, model_test_inp, ground_truth):\n",
    "    \"\"\"\n",
    "    Performs XGBoost Randomized Search for best model\n",
    "    Inputs: model = XGBClassifier model, model_features = X_train, model_response = y_train, \n",
    "            model_test_input = X_test, ground_truth = y_test\n",
    "    Returns best_model, confusion_matrix, tuple of roc_curve (fpr, tpr, thresholds)\n",
    "    \"\"\"\n",
    "#     XGBoost param_grid\n",
    "    param_grid = {\n",
    "        'learning_rate': [0.005, 0.01, 0.02],\n",
    "        'min_child_weight': [1, 5, 10],\n",
    "        'min_delta_step': [1,3,9],\n",
    "        'gamma': [0.5, 1, 1.5, 2, 5],\n",
    "        'subsample': [0.6, 0.8, 1.0],\n",
    "        'colsample_bytree': [0.6, 0.8, 1.0],\n",
    "        'max_depth': [3, 4, 5],\n",
    "        'booster': ['gbtree']\n",
    "        }\n",
    "\n",
    "    rSearchCV = RandomizedSearchCV(model, param_grid, n_iter=100, n_jobs=4, cv=5, scoring='roc_auc')\n",
    "    rSearchCV.fit(model_features, model_response)\n",
    "    \n",
    "    model = rSearchCV.best_estimator_\n",
    "    prediction = model.predict(model_test_inp)\n",
    "    c_matrix = confusion_matrix(ground_truth, prediction)\n",
    "    errors = prediction - ground_truth\n",
    "    \n",
    "    roc_auc = roc_auc_score(ground_truth, prediction)\n",
    "    fpr, tpr, thresholds = roc_curve(ground_truth, prediction)\n",
    "    roc_curves = (roc_auc, fpr, tpr, thresholds)\n",
    "    print(model)\n",
    "    print('Errors: \\n',errors.value_counts())\n",
    "    return (model, c_matrix, roc_curves)"
   ]
  },
  {
   "cell_type": "markdown",
   "metadata": {
    "hidden": true
   },
   "source": [
    "___"
   ]
  },
  {
   "cell_type": "markdown",
   "metadata": {
    "hidden": true
   },
   "source": [
    "<a id='toc'></a>"
   ]
  },
  {
   "cell_type": "markdown",
   "metadata": {
    "hidden": true
   },
   "source": [
    "<a id=setup></a>"
   ]
  },
  {
   "cell_type": "markdown",
   "metadata": {
    "heading_collapsed": true
   },
   "source": [
    "# Setup\n",
    "Import data, split into training and testing sets."
   ]
  },
  {
   "cell_type": "markdown",
   "metadata": {
    "hidden": true
   },
   "source": [
    "## Import data from 03\n",
    "Read ```./data/drugC_features.pkl```, ```./data/drugC_responses.pkl```, and ```./data/drugC_cohorts.pkl```."
   ]
  },
  {
   "cell_type": "code",
   "execution_count": 5,
   "metadata": {
    "ExecuteTime": {
     "end_time": "2020-05-06T05:54:09.371237Z",
     "start_time": "2020-05-06T05:54:08.478936Z"
    },
    "hidden": true
   },
   "outputs": [],
   "source": [
    "df_features  = pd.read_pickle('./data/drugC_features.pkl')\n",
    "df_responses = pd.read_pickle('./data/drugC_responses.pkl')"
   ]
  },
  {
   "cell_type": "code",
   "execution_count": 6,
   "metadata": {
    "ExecuteTime": {
     "end_time": "2020-05-06T05:54:09.401608Z",
     "start_time": "2020-05-06T05:54:09.380161Z"
    },
    "hidden": true
   },
   "outputs": [],
   "source": [
    "with open('./data/drugC_cohorts.pkl', 'rb') as handle:\n",
    "    drug_cohorts = pickle.load(handle)\n",
    "handle.close()"
   ]
  },
  {
   "cell_type": "markdown",
   "metadata": {
    "hidden": true
   },
   "source": [
    "## Train-test split\n",
    "Split into 80/20 sets., plot distributions of "
   ]
  },
  {
   "cell_type": "code",
   "execution_count": 7,
   "metadata": {
    "ExecuteTime": {
     "end_time": "2020-05-06T05:54:09.446776Z",
     "start_time": "2020-05-06T05:54:09.422913Z"
    },
    "hidden": true
   },
   "outputs": [],
   "source": [
    "test_size    = .2\n",
    "random_state = 40 #random.randint(1,100)"
   ]
  },
  {
   "cell_type": "code",
   "execution_count": 8,
   "metadata": {
    "ExecuteTime": {
     "end_time": "2020-05-06T05:54:09.526540Z",
     "start_time": "2020-05-06T05:54:09.458828Z"
    },
    "hidden": true
   },
   "outputs": [],
   "source": [
    "X_train, X_test, y_train, y_test = (train_test_split(df_features,\n",
    "                                                     df_responses,\n",
    "                                                     #stratify=df_responses,\n",
    "                                                     test_size=test_size,\n",
    "                                                     random_state=random_state,\n",
    "                                                    ))"
   ]
  },
  {
   "cell_type": "code",
   "execution_count": 9,
   "metadata": {
    "ExecuteTime": {
     "end_time": "2020-05-06T05:54:10.554505Z",
     "start_time": "2020-05-06T05:54:09.535837Z"
    },
    "hidden": true,
    "scrolled": true
   },
   "outputs": [
    {
     "data": {
      "text/plain": [
       "<matplotlib.axes._subplots.AxesSubplot at 0x1a12a8cfd0>"
      ]
     },
     "execution_count": 9,
     "metadata": {},
     "output_type": "execute_result"
    },
    {
     "data": {
      "image/png": "[encoded data removed]",
      "text/plain": [
       "<Figure size 1008x216 with 1 Axes>"
      ]
     },
     "metadata": {
      "needs_background": "light"
     },
     "output_type": "display_data"
    }
   ],
   "source": [
    "plot_train_test_split_distrib(y_train, y_test)"
   ]
  },
  {
   "cell_type": "markdown",
   "metadata": {
    "hidden": true
   },
   "source": [
    "___\n"
   ]
  },
  {
   "cell_type": "markdown",
   "metadata": {
    "hidden": true
   },
   "source": [
    "<a id='network_structure'></a>"
   ]
  },
  {
   "cell_type": "markdown",
   "metadata": {
    "heading_collapsed": true
   },
   "source": [
    "# Network Structure\n",
    "Describe network, initialize models."
   ]
  },
  {
   "cell_type": "markdown",
   "metadata": {
    "hidden": true
   },
   "source": [
    "Check drug cohorts (should be ```[0, 4]``` for monthly)"
   ]
  },
  {
   "cell_type": "code",
   "execution_count": 11,
   "metadata": {
    "ExecuteTime": {
     "end_time": "2020-05-06T05:54:10.593078Z",
     "start_time": "2020-05-06T05:54:10.567796Z"
    },
    "collapsed": true,
    "hidden": true
   },
   "outputs": [
    {
     "data": {
      "text/plain": [
       "{'alcohol': [0, 4],\n",
       " 'amphet': [0, 4],\n",
       " 'amyl': [0, 4],\n",
       " 'benzos': [0, 4],\n",
       " 'caff': [0, 4],\n",
       " 'cannabis': [0, 4],\n",
       " 'choc': [0, 4],\n",
       " 'coke': [0, 4],\n",
       " 'crack': [0, 4],\n",
       " 'ecstasy': [0, 4],\n",
       " 'heroin': [0, 4],\n",
       " 'ketamine': [0, 4],\n",
       " 'legalh': [0, 4],\n",
       " 'lsd': [0, 4],\n",
       " 'meth': [0, 4],\n",
       " 'mushrooms': [0, 4],\n",
       " 'nicotine': [0, 4],\n",
       " 'vsa': [0, 4]}"
      ]
     },
     "execution_count": 11,
     "metadata": {},
     "output_type": "execute_result"
    }
   ],
   "source": [
    "drug_cohorts"
   ]
  },
  {
   "cell_type": "markdown",
   "metadata": {
    "hidden": true
   },
   "source": [
    "XGBoost models were chosen because of their power and lightweightness compared to other ensemble methods. As the end product is going to a be a web app, it is very important that the prediction time of the models are generally fast. "
   ]
  },
  {
   "cell_type": "code",
   "execution_count": 12,
   "metadata": {
    "ExecuteTime": {
     "end_time": "2020-05-06T05:54:10.606677Z",
     "start_time": "2020-05-06T05:54:10.597764Z"
    },
    "hidden": true
   },
   "outputs": [],
   "source": [
    "models = {'alcohol': XGBClassifier(),\n",
    "          'amphet': XGBClassifier(),\n",
    "          'amyl': XGBClassifier(),\n",
    "          'benzos': XGBClassifier(),\n",
    "          'caff': XGBClassifier(),\n",
    "          'cannabis': XGBClassifier(),\n",
    "          'choc': XGBClassifier(),\n",
    "          'coke': XGBClassifier(),\n",
    "          'crack': XGBClassifier(),\n",
    "          'ecstasy': XGBClassifier(),\n",
    "          'heroin': XGBClassifier(),\n",
    "          'ketamine': XGBClassifier(),\n",
    "          'legalh': XGBClassifier(),\n",
    "          'lsd': XGBClassifier(),\n",
    "          'meth': XGBClassifier(),\n",
    "          'mushrooms': XGBClassifier(),\n",
    "          'nicotine': XGBClassifier(),\n",
    "          'vsa': XGBClassifier(),\n",
    "          'monthly_illicit_user': XGBClassifier(),\n",
    "         }\n",
    "\n",
    "# RandomForestClassifier(n_estimators=150,criterion='entropy',n_jobs=4)"
   ]
  },
  {
   "cell_type": "markdown",
   "metadata": {
    "hidden": true
   },
   "source": [
    "___\n"
   ]
  },
  {
   "cell_type": "markdown",
   "metadata": {
    "hidden": true
   },
   "source": [
    "<a id='first_level'></a>"
   ]
  },
  {
   "cell_type": "markdown",
   "metadata": {
    "heading_collapsed": true
   },
   "source": [
    "# First level\n",
    "```alcohol```, ```caff```, ```choc```, ```monthly_illicit_user```."
   ]
  },
  {
   "cell_type": "code",
   "execution_count": 13,
   "metadata": {
    "ExecuteTime": {
     "end_time": "2020-05-06T05:54:10.619782Z",
     "start_time": "2020-05-06T05:54:10.613415Z"
    },
    "hidden": true
   },
   "outputs": [],
   "source": [
    "fitted_models_lvl1 = {}\n",
    "c_matrices_lvl1 = {}\n",
    "roc_curves_lvl1 = {}"
   ]
  },
  {
   "cell_type": "markdown",
   "metadata": {
    "hidden": true
   },
   "source": [
    "## Train models"
   ]
  },
  {
   "cell_type": "code",
   "execution_count": 14,
   "metadata": {
    "ExecuteTime": {
     "end_time": "2020-05-06T05:55:45.473491Z",
     "start_time": "2020-05-06T05:54:10.625128Z"
    },
    "hidden": true
   },
   "outputs": [
    {
     "name": "stdout",
     "output_type": "stream",
     "text": [
      "XGBClassifier(base_score=0.5, booster='gbtree', colsample_bylevel=1,\n",
      "              colsample_bynode=1, colsample_bytree=1.0, gamma=5, gpu_id=-1,\n",
      "              importance_type='gain', interaction_constraints=None,\n",
      "              learning_rate=0.005, max_delta_step=0, max_depth=4,\n",
      "              min_child_weight=1, min_delta_step=3, missing=nan,\n",
      "              monotone_constraints=None, n_estimators=100, n_jobs=0,\n",
      "              num_parallel_tree=1, objective='binary:logistic', random_state=0,\n",
      "              reg_alpha=0, reg_lambda=1, scale_pos_weight=1, subsample=0.6,\n",
      "              tree_method=None, validate_parameters=False, verbosity=None)\n",
      "Errors: \n",
      " 0    292\n",
      "1     85\n",
      "Name: alcohol, dtype: int64\n",
      "XGBClassifier(base_score=0.5, booster='gbtree', colsample_bylevel=1,\n",
      "              colsample_bynode=1, colsample_bytree=0.6, gamma=1, gpu_id=-1,\n",
      "              importance_type='gain', interaction_constraints=None,\n",
      "              learning_rate=0.005, max_delta_step=0, max_depth=4,\n",
      "              min_child_weight=10, min_delta_step=1, missing=nan,\n",
      "              monotone_constraints=None, n_estimators=100, n_jobs=0,\n",
      "              num_parallel_tree=1, objective='binary:logistic', random_state=0,\n",
      "              reg_alpha=0, reg_lambda=1, scale_pos_weight=1, subsample=0.8,\n",
      "              tree_method=None, validate_parameters=False, verbosity=None)\n",
      "Errors: \n",
      " 0    355\n",
      "1     22\n",
      "Name: caff, dtype: int64\n",
      "XGBClassifier(base_score=0.5, booster='gbtree', colsample_bylevel=1,\n",
      "              colsample_bynode=1, colsample_bytree=1.0, gamma=2, gpu_id=-1,\n",
      "              importance_type='gain', interaction_constraints=None,\n",
      "              learning_rate=0.02, max_delta_step=0, max_depth=3,\n",
      "              min_child_weight=10, min_delta_step=9, missing=nan,\n",
      "              monotone_constraints=None, n_estimators=100, n_jobs=0,\n",
      "              num_parallel_tree=1, objective='binary:logistic', random_state=0,\n",
      "              reg_alpha=0, reg_lambda=1, scale_pos_weight=1, subsample=0.8,\n",
      "              tree_method=None, validate_parameters=False, verbosity=None)\n",
      "Errors: \n",
      " 0    353\n",
      "1     24\n",
      "Name: choc, dtype: int64\n",
      "XGBClassifier(base_score=0.5, booster='gbtree', colsample_bylevel=1,\n",
      "              colsample_bynode=1, colsample_bytree=0.6, gamma=1.5, gpu_id=-1,\n",
      "              importance_type='gain', interaction_constraints=None,\n",
      "              learning_rate=0.02, max_delta_step=0, max_depth=5,\n",
      "              min_child_weight=1, min_delta_step=1, missing=nan,\n",
      "              monotone_constraints=None, n_estimators=100, n_jobs=0,\n",
      "              num_parallel_tree=1, objective='binary:logistic', random_state=0,\n",
      "              reg_alpha=0, reg_lambda=1, scale_pos_weight=1, subsample=0.8,\n",
      "              tree_method=None, validate_parameters=False, verbosity=None)\n",
      "Errors: \n",
      "  0    291\n",
      "-1     67\n",
      " 1     19\n",
      "Name: monthly_illicit_user, dtype: int64\n"
     ]
    }
   ],
   "source": [
    "for drug in ['alcohol','caff','choc','monthly_illicit_user']:\n",
    "\n",
    "    model_features = X_train\n",
    "    model_response = y_train[drug]\n",
    "    model_test_inp = X_test\n",
    "    ground_truth = y_test[drug]\n",
    "    #print(model_features.columns)\n",
    "\n",
    "    fitted_models_lvl1[drug], c_matrices_lvl1[drug], roc_curves_lvl1[drug] = fit_model(models[drug], model_features, model_response, model_test_inp, ground_truth)"
   ]
  },
  {
   "cell_type": "code",
   "execution_count": null,
   "metadata": {
    "hidden": true
   },
   "outputs": [],
   "source": []
  },
  {
   "cell_type": "markdown",
   "metadata": {
    "hidden": true
   },
   "source": [
    "___\n"
   ]
  },
  {
   "cell_type": "markdown",
   "metadata": {
    "hidden": true
   },
   "source": [
    "<a id='second_layer'></a>"
   ]
  },
  {
   "cell_type": "markdown",
   "metadata": {
    "heading_collapsed": true
   },
   "source": [
    "# Second layer\n",
    "Train ```amphet```, ```benzos```, ```cannabis```, ```ecstasy```, ```legalh```, and ```nicotine``` on X_train + ```monthly_illicit_user```."
   ]
  },
  {
   "cell_type": "code",
   "execution_count": 15,
   "metadata": {
    "ExecuteTime": {
     "end_time": "2020-05-06T05:55:45.492749Z",
     "start_time": "2020-05-06T05:55:45.479153Z"
    },
    "hidden": true
   },
   "outputs": [],
   "source": [
    "fitted_models_lvl2 = {}\n",
    "c_matrices_lvl2 = {}\n",
    "roc_curves_lvl2 = {}"
   ]
  },
  {
   "cell_type": "code",
   "execution_count": 16,
   "metadata": {
    "ExecuteTime": {
     "end_time": "2020-05-06T05:55:45.500883Z",
     "start_time": "2020-05-06T05:55:45.495435Z"
    },
    "hidden": true
   },
   "outputs": [],
   "source": [
    "lvl2_drugs = ['amphet','benzos','cannabis','ecstasy','nicotine']"
   ]
  },
  {
   "cell_type": "code",
   "execution_count": 17,
   "metadata": {
    "ExecuteTime": {
     "end_time": "2020-05-06T05:58:45.552780Z",
     "start_time": "2020-05-06T05:55:45.505741Z"
    },
    "hidden": true
   },
   "outputs": [
    {
     "name": "stdout",
     "output_type": "stream",
     "text": [
      "\n",
      "==============================================================\n",
      "\n",
      "Drug: amphet\n",
      "Index(['age', 'education', 'nscore', 'escore', 'oscore', 'ascore', 'cscore',\n",
      "       'impulsiveness', 'ss', 'monthly_illicit_user'],\n",
      "      dtype='object')\n",
      "XGBClassifier(base_score=0.5, booster='gbtree', colsample_bylevel=1,\n",
      "              colsample_bynode=1, colsample_bytree=1.0, gamma=1.5, gpu_id=-1,\n",
      "              importance_type='gain', interaction_constraints=None,\n",
      "              learning_rate=0.01, max_delta_step=0, max_depth=3,\n",
      "              min_child_weight=5, min_delta_step=1, missing=nan,\n",
      "              monotone_constraints=None, n_estimators=100, n_jobs=0,\n",
      "              num_parallel_tree=1, objective='binary:logistic', random_state=0,\n",
      "              reg_alpha=0, reg_lambda=1, scale_pos_weight=1, subsample=1.0,\n",
      "              tree_method=None, validate_parameters=False, verbosity=None)\n",
      "Errors: \n",
      "  0    332\n",
      " 1     36\n",
      "-1      9\n",
      "Name: amphet, dtype: int64\n",
      "\n",
      "==============================================================\n",
      "\n",
      "Drug: benzos\n",
      "Index(['age', 'education', 'nscore', 'escore', 'oscore', 'ascore', 'cscore',\n",
      "       'impulsiveness', 'ss', 'monthly_illicit_user'],\n",
      "      dtype='object')\n",
      "XGBClassifier(base_score=0.5, booster='gbtree', colsample_bylevel=1,\n",
      "              colsample_bynode=1, colsample_bytree=1.0, gamma=5, gpu_id=-1,\n",
      "              importance_type='gain', interaction_constraints=None,\n",
      "              learning_rate=0.02, max_delta_step=0, max_depth=5,\n",
      "              min_child_weight=5, min_delta_step=3, missing=nan,\n",
      "              monotone_constraints=None, n_estimators=100, n_jobs=0,\n",
      "              num_parallel_tree=1, objective='binary:logistic', random_state=0,\n",
      "              reg_alpha=0, reg_lambda=1, scale_pos_weight=1, subsample=1.0,\n",
      "              tree_method=None, validate_parameters=False, verbosity=None)\n",
      "Errors: \n",
      "  0    325\n",
      "-1     49\n",
      " 1      3\n",
      "Name: benzos, dtype: int64\n",
      "\n",
      "==============================================================\n",
      "\n",
      "Drug: cannabis\n",
      "Index(['age', 'education', 'nscore', 'escore', 'oscore', 'ascore', 'cscore',\n",
      "       'impulsiveness', 'ss', 'monthly_illicit_user'],\n",
      "      dtype='object')\n",
      "XGBClassifier(base_score=0.5, booster='gbtree', colsample_bylevel=1,\n",
      "              colsample_bynode=1, colsample_bytree=0.6, gamma=5, gpu_id=-1,\n",
      "              importance_type='gain', interaction_constraints=None,\n",
      "              learning_rate=0.02, max_delta_step=0, max_depth=4,\n",
      "              min_child_weight=5, min_delta_step=1, missing=nan,\n",
      "              monotone_constraints=None, n_estimators=100, n_jobs=0,\n",
      "              num_parallel_tree=1, objective='binary:logistic', random_state=0,\n",
      "              reg_alpha=0, reg_lambda=1, scale_pos_weight=1, subsample=0.6,\n",
      "              tree_method=None, validate_parameters=False, verbosity=None)\n",
      "Errors: \n",
      "  0    289\n",
      "-1     44\n",
      " 1     44\n",
      "Name: cannabis, dtype: int64\n",
      "\n",
      "==============================================================\n",
      "\n",
      "Drug: ecstasy\n",
      "Index(['age', 'education', 'nscore', 'escore', 'oscore', 'ascore', 'cscore',\n",
      "       'impulsiveness', 'ss', 'monthly_illicit_user'],\n",
      "      dtype='object')\n",
      "XGBClassifier(base_score=0.5, booster='gbtree', colsample_bylevel=1,\n",
      "              colsample_bynode=1, colsample_bytree=0.8, gamma=0.5, gpu_id=-1,\n",
      "              importance_type='gain', interaction_constraints=None,\n",
      "              learning_rate=0.01, max_delta_step=0, max_depth=5,\n",
      "              min_child_weight=1, min_delta_step=1, missing=nan,\n",
      "              monotone_constraints=None, n_estimators=100, n_jobs=0,\n",
      "              num_parallel_tree=1, objective='binary:logistic', random_state=0,\n",
      "              reg_alpha=0, reg_lambda=1, scale_pos_weight=1, subsample=0.6,\n",
      "              tree_method=None, validate_parameters=False, verbosity=None)\n",
      "Errors: \n",
      "  0    323\n",
      "-1     54\n",
      "Name: ecstasy, dtype: int64\n",
      "\n",
      "==============================================================\n",
      "\n",
      "Drug: nicotine\n",
      "Index(['age', 'education', 'nscore', 'escore', 'oscore', 'ascore', 'cscore',\n",
      "       'impulsiveness', 'ss', 'monthly_illicit_user'],\n",
      "      dtype='object')\n",
      "XGBClassifier(base_score=0.5, booster='gbtree', colsample_bylevel=1,\n",
      "              colsample_bynode=1, colsample_bytree=0.6, gamma=2, gpu_id=-1,\n",
      "              importance_type='gain', interaction_constraints=None,\n",
      "              learning_rate=0.005, max_delta_step=0, max_depth=5,\n",
      "              min_child_weight=10, min_delta_step=9, missing=nan,\n",
      "              monotone_constraints=None, n_estimators=100, n_jobs=0,\n",
      "              num_parallel_tree=1, objective='binary:logistic', random_state=0,\n",
      "              reg_alpha=0, reg_lambda=1, scale_pos_weight=1, subsample=0.6,\n",
      "              tree_method=None, validate_parameters=False, verbosity=None)\n",
      "Errors: \n",
      "  0    241\n",
      "-1     73\n",
      " 1     63\n",
      "Name: nicotine, dtype: int64\n"
     ]
    }
   ],
   "source": [
    "for drug in lvl2_drugs:\n",
    "    model_features = X_train.assign(monthly_illicit_user = y_train['monthly_illicit_user'].values)\n",
    "    model_response = y_train[drug]\n",
    "    model_test_inp = X_test.assign(monthly_illicit_user = y_test['monthly_illicit_user'].values)\n",
    "    ground_truth = y_test[drug]\n",
    "    \n",
    "    \n",
    "    print('\\n==============================================================\\n')\n",
    "    print('Drug:',drug)\n",
    "    print(model_features.columns)\n",
    "\n",
    "    try:\n",
    "        fitted_models_lvl2[drug], c_matrices_lvl2[drug], roc_curves_lvl2[drug] = fit_model(models[drug], model_features, model_response, model_test_inp, ground_truth)\n",
    "    except:\n",
    "        print(\"Model for\",drug,\"already exists.\")\n",
    "        pass"
   ]
  },
  {
   "cell_type": "markdown",
   "metadata": {
    "heading_collapsed": true
   },
   "source": [
    "# Third Layer\n",
    "Train ```coke``` and ```meth``` models on ```X_train``` + ```monthly_illicit_user``` + ```lvl2_drugs```."
   ]
  },
  {
   "cell_type": "code",
   "execution_count": 18,
   "metadata": {
    "ExecuteTime": {
     "end_time": "2020-05-06T05:58:45.571968Z",
     "start_time": "2020-05-06T05:58:45.566275Z"
    },
    "hidden": true
   },
   "outputs": [],
   "source": [
    "fitted_models_lvl3 = {}\n",
    "c_matrices_lvl3 = {}\n",
    "roc_curves_lvl3 = {}"
   ]
  },
  {
   "cell_type": "code",
   "execution_count": 19,
   "metadata": {
    "ExecuteTime": {
     "end_time": "2020-05-06T05:58:45.589925Z",
     "start_time": "2020-05-06T05:58:45.583700Z"
    },
    "hidden": true
   },
   "outputs": [],
   "source": [
    "lvl3_drugs = ['coke','meth']"
   ]
  },
  {
   "cell_type": "code",
   "execution_count": 20,
   "metadata": {
    "ExecuteTime": {
     "end_time": "2020-05-06T06:00:26.730810Z",
     "start_time": "2020-05-06T05:58:45.593898Z"
    },
    "hidden": true
   },
   "outputs": [
    {
     "name": "stdout",
     "output_type": "stream",
     "text": [
      "\n",
      "==============================================================\n",
      "\n",
      "Drug: coke\n",
      "Index(['age', 'education', 'nscore', 'escore', 'oscore', 'ascore', 'cscore',\n",
      "       'impulsiveness', 'ss', 'monthly_illicit_user', 'amphet', 'benzos',\n",
      "       'cannabis', 'ecstasy', 'nicotine'],\n",
      "      dtype='object')\n",
      "XGBClassifier(base_score=0.5, booster='gbtree', colsample_bylevel=1,\n",
      "              colsample_bynode=1, colsample_bytree=0.6, gamma=1, gpu_id=-1,\n",
      "              importance_type='gain', interaction_constraints=None,\n",
      "              learning_rate=0.02, max_delta_step=0, max_depth=4,\n",
      "              min_child_weight=5, min_delta_step=9, missing=nan,\n",
      "              monotone_constraints=None, n_estimators=100, n_jobs=0,\n",
      "              num_parallel_tree=1, objective='binary:logistic', random_state=0,\n",
      "              reg_alpha=0, reg_lambda=1, scale_pos_weight=1, subsample=0.6,\n",
      "              tree_method=None, validate_parameters=False, verbosity=None)\n",
      "Errors: \n",
      "  0    346\n",
      "-1     29\n",
      " 1      2\n",
      "Name: coke, dtype: int64\n",
      "\n",
      "==============================================================\n",
      "\n",
      "Drug: meth\n",
      "Index(['age', 'education', 'nscore', 'escore', 'oscore', 'ascore', 'cscore',\n",
      "       'impulsiveness', 'ss', 'monthly_illicit_user', 'amphet', 'benzos',\n",
      "       'cannabis', 'ecstasy', 'nicotine'],\n",
      "      dtype='object')\n",
      "XGBClassifier(base_score=0.5, booster='gbtree', colsample_bylevel=1,\n",
      "              colsample_bynode=1, colsample_bytree=0.6, gamma=2, gpu_id=-1,\n",
      "              importance_type='gain', interaction_constraints=None,\n",
      "              learning_rate=0.02, max_delta_step=0, max_depth=5,\n",
      "              min_child_weight=1, min_delta_step=3, missing=nan,\n",
      "              monotone_constraints=None, n_estimators=100, n_jobs=0,\n",
      "              num_parallel_tree=1, objective='binary:logistic', random_state=0,\n",
      "              reg_alpha=0, reg_lambda=1, scale_pos_weight=1, subsample=0.6,\n",
      "              tree_method=None, validate_parameters=False, verbosity=None)\n",
      "Errors: \n",
      "  0    339\n",
      "-1     37\n",
      " 1      1\n",
      "Name: meth, dtype: int64\n"
     ]
    }
   ],
   "source": [
    "for drug in lvl3_drugs:\n",
    "    model_features = X_train.assign(monthly_illicit_user = y_train['monthly_illicit_user'].values)\n",
    "    model_response = y_train[drug]\n",
    "    model_test_inp = X_test.assign(monthly_illicit_user = y_test['monthly_illicit_user'].values)\n",
    "    ground_truth = y_test[drug]\n",
    "    \n",
    "    # append results from lvl2 drugs\n",
    "    for lvl2_drug in lvl2_drugs:\n",
    "        model_features[lvl2_drug] = y_train[lvl2_drug]\n",
    "        model_test_inp[lvl2_drug] = y_test[lvl2_drug]\n",
    "    \n",
    "    print('\\n==============================================================\\n')\n",
    "    print('Drug:',drug)\n",
    "    print(model_features.columns)\n",
    "\n",
    "    try:\n",
    "        fitted_models_lvl3[drug], c_matrices_lvl3[drug], roc_curves_lvl3[drug] = fit_model(models[drug], model_features, model_response, model_test_inp, ground_truth)\n",
    "    except:\n",
    "        print(\"Model for\",drug,\"already exists.\")\n",
    "        pass"
   ]
  },
  {
   "cell_type": "markdown",
   "metadata": {
    "heading_collapsed": true
   },
   "source": [
    "# Fourth Layer\n",
    "Train the rest of the drugs on ```X_train``` + ```monthly_illicit_user``` + ```lvl2_drugs``` + ```lvl3_drugs```."
   ]
  },
  {
   "cell_type": "code",
   "execution_count": 21,
   "metadata": {
    "ExecuteTime": {
     "end_time": "2020-05-06T06:00:26.755315Z",
     "start_time": "2020-05-06T06:00:26.734942Z"
    },
    "hidden": true
   },
   "outputs": [],
   "source": [
    "fitted_models_lvl4 = {}\n",
    "c_matrices_lvl4 = {}\n",
    "roc_curves_lvl4 = {}"
   ]
  },
  {
   "cell_type": "code",
   "execution_count": 22,
   "metadata": {
    "ExecuteTime": {
     "end_time": "2020-05-06T06:00:26.765936Z",
     "start_time": "2020-05-06T06:00:26.758615Z"
    },
    "hidden": true
   },
   "outputs": [],
   "source": [
    "lvl4_drugs = ['amyl','heroin','crack','ketamine','legalh','mushrooms','lsd','vsa']"
   ]
  },
  {
   "cell_type": "code",
   "execution_count": 23,
   "metadata": {
    "ExecuteTime": {
     "end_time": "2020-05-06T06:06:31.929121Z",
     "start_time": "2020-05-06T06:00:26.771493Z"
    },
    "hidden": true
   },
   "outputs": [
    {
     "name": "stdout",
     "output_type": "stream",
     "text": [
      "\n",
      "==============================================================\n",
      "\n",
      "Drug: amyl\n",
      "Index(['age', 'education', 'nscore', 'escore', 'oscore', 'ascore', 'cscore',\n",
      "       'impulsiveness', 'ss', 'monthly_illicit_user', 'amphet', 'benzos',\n",
      "       'cannabis', 'ecstasy', 'nicotine', 'coke', 'meth'],\n",
      "      dtype='object')\n",
      "XGBClassifier(base_score=0.5, booster='gbtree', colsample_bylevel=1,\n",
      "              colsample_bynode=1, colsample_bytree=0.6, gamma=1, gpu_id=-1,\n",
      "              importance_type='gain', interaction_constraints=None,\n",
      "              learning_rate=0.02, max_delta_step=0, max_depth=5,\n",
      "              min_child_weight=10, min_delta_step=3, missing=nan,\n",
      "              monotone_constraints=None, n_estimators=100, n_jobs=0,\n",
      "              num_parallel_tree=1, objective='binary:logistic', random_state=0,\n",
      "              reg_alpha=0, reg_lambda=1, scale_pos_weight=1, subsample=0.6,\n",
      "              tree_method=None, validate_parameters=False, verbosity=None)\n",
      "Errors: \n",
      "  0    369\n",
      "-1      8\n",
      "Name: amyl, dtype: int64\n",
      "\n",
      "==============================================================\n",
      "\n",
      "Drug: heroin\n",
      "Index(['age', 'education', 'nscore', 'escore', 'oscore', 'ascore', 'cscore',\n",
      "       'impulsiveness', 'ss', 'monthly_illicit_user', 'amphet', 'benzos',\n",
      "       'cannabis', 'ecstasy', 'nicotine', 'coke', 'meth'],\n",
      "      dtype='object')\n",
      "XGBClassifier(base_score=0.5, booster='gbtree', colsample_bylevel=1,\n",
      "              colsample_bynode=1, colsample_bytree=0.6, gamma=2, gpu_id=-1,\n",
      "              importance_type='gain', interaction_constraints=None,\n",
      "              learning_rate=0.02, max_delta_step=0, max_depth=4,\n",
      "              min_child_weight=5, min_delta_step=9, missing=nan,\n",
      "              monotone_constraints=None, n_estimators=100, n_jobs=0,\n",
      "              num_parallel_tree=1, objective='binary:logistic', random_state=0,\n",
      "              reg_alpha=0, reg_lambda=1, scale_pos_weight=1, subsample=1.0,\n",
      "              tree_method=None, validate_parameters=False, verbosity=None)\n",
      "Errors: \n",
      "  0    366\n",
      "-1     11\n",
      "Name: heroin, dtype: int64\n",
      "\n",
      "==============================================================\n",
      "\n",
      "Drug: crack\n",
      "Index(['age', 'education', 'nscore', 'escore', 'oscore', 'ascore', 'cscore',\n",
      "       'impulsiveness', 'ss', 'monthly_illicit_user', 'amphet', 'benzos',\n",
      "       'cannabis', 'ecstasy', 'nicotine', 'coke', 'meth'],\n",
      "      dtype='object')\n",
      "XGBClassifier(base_score=0.5, booster='gbtree', colsample_bylevel=1,\n",
      "              colsample_bynode=1, colsample_bytree=1.0, gamma=2, gpu_id=-1,\n",
      "              importance_type='gain', interaction_constraints=None,\n",
      "              learning_rate=0.02, max_delta_step=0, max_depth=5,\n",
      "              min_child_weight=10, min_delta_step=1, missing=nan,\n",
      "              monotone_constraints=None, n_estimators=100, n_jobs=0,\n",
      "              num_parallel_tree=1, objective='binary:logistic', random_state=0,\n",
      "              reg_alpha=0, reg_lambda=1, scale_pos_weight=1, subsample=0.8,\n",
      "              tree_method=None, validate_parameters=False, verbosity=None)\n",
      "Errors: \n",
      "  0    376\n",
      "-1      1\n",
      "Name: crack, dtype: int64\n",
      "\n",
      "==============================================================\n",
      "\n",
      "Drug: ketamine\n",
      "Index(['age', 'education', 'nscore', 'escore', 'oscore', 'ascore', 'cscore',\n",
      "       'impulsiveness', 'ss', 'monthly_illicit_user', 'amphet', 'benzos',\n",
      "       'cannabis', 'ecstasy', 'nicotine', 'coke', 'meth'],\n",
      "      dtype='object')\n",
      "XGBClassifier(base_score=0.5, booster='gbtree', colsample_bylevel=1,\n",
      "              colsample_bynode=1, colsample_bytree=0.6, gamma=0.5, gpu_id=-1,\n",
      "              importance_type='gain', interaction_constraints=None,\n",
      "              learning_rate=0.02, max_delta_step=0, max_depth=3,\n",
      "              min_child_weight=10, min_delta_step=9, missing=nan,\n",
      "              monotone_constraints=None, n_estimators=100, n_jobs=0,\n",
      "              num_parallel_tree=1, objective='binary:logistic', random_state=0,\n",
      "              reg_alpha=0, reg_lambda=1, scale_pos_weight=1, subsample=1.0,\n",
      "              tree_method=None, validate_parameters=False, verbosity=None)\n",
      "Errors: \n",
      "  0    355\n",
      "-1     22\n",
      "Name: ketamine, dtype: int64\n",
      "\n",
      "==============================================================\n",
      "\n",
      "Drug: legalh\n",
      "Index(['age', 'education', 'nscore', 'escore', 'oscore', 'ascore', 'cscore',\n",
      "       'impulsiveness', 'ss', 'monthly_illicit_user', 'amphet', 'benzos',\n",
      "       'cannabis', 'ecstasy', 'nicotine', 'coke', 'meth'],\n",
      "      dtype='object')\n",
      "XGBClassifier(base_score=0.5, booster='gbtree', colsample_bylevel=1,\n",
      "              colsample_bynode=1, colsample_bytree=0.6, gamma=2, gpu_id=-1,\n",
      "              importance_type='gain', interaction_constraints=None,\n",
      "              learning_rate=0.005, max_delta_step=0, max_depth=5,\n",
      "              min_child_weight=5, min_delta_step=9, missing=nan,\n",
      "              monotone_constraints=None, n_estimators=100, n_jobs=0,\n",
      "              num_parallel_tree=1, objective='binary:logistic', random_state=0,\n",
      "              reg_alpha=0, reg_lambda=1, scale_pos_weight=1, subsample=0.8,\n",
      "              tree_method=None, validate_parameters=False, verbosity=None)\n",
      "Errors: \n",
      "  0    321\n",
      "-1     55\n",
      " 1      1\n",
      "Name: legalh, dtype: int64\n",
      "\n",
      "==============================================================\n",
      "\n",
      "Drug: mushrooms\n",
      "Index(['age', 'education', 'nscore', 'escore', 'oscore', 'ascore', 'cscore',\n",
      "       'impulsiveness', 'ss', 'monthly_illicit_user', 'amphet', 'benzos',\n",
      "       'cannabis', 'ecstasy', 'nicotine', 'coke', 'meth'],\n",
      "      dtype='object')\n",
      "XGBClassifier(base_score=0.5, booster='gbtree', colsample_bylevel=1,\n",
      "              colsample_bynode=1, colsample_bytree=0.6, gamma=2, gpu_id=-1,\n",
      "              importance_type='gain', interaction_constraints=None,\n",
      "              learning_rate=0.005, max_delta_step=0, max_depth=4,\n",
      "              min_child_weight=10, min_delta_step=1, missing=nan,\n",
      "              monotone_constraints=None, n_estimators=100, n_jobs=0,\n",
      "              num_parallel_tree=1, objective='binary:logistic', random_state=0,\n",
      "              reg_alpha=0, reg_lambda=1, scale_pos_weight=1, subsample=0.6,\n",
      "              tree_method=None, validate_parameters=False, verbosity=None)\n",
      "Errors: \n",
      "  0    342\n",
      "-1     35\n",
      "Name: mushrooms, dtype: int64\n",
      "\n",
      "==============================================================\n",
      "\n",
      "Drug: lsd\n",
      "Index(['age', 'education', 'nscore', 'escore', 'oscore', 'ascore', 'cscore',\n",
      "       'impulsiveness', 'ss', 'monthly_illicit_user', 'amphet', 'benzos',\n",
      "       'cannabis', 'ecstasy', 'nicotine', 'coke', 'meth'],\n",
      "      dtype='object')\n",
      "XGBClassifier(base_score=0.5, booster='gbtree', colsample_bylevel=1,\n",
      "              colsample_bynode=1, colsample_bytree=0.6, gamma=1.5, gpu_id=-1,\n",
      "              importance_type='gain', interaction_constraints=None,\n",
      "              learning_rate=0.01, max_delta_step=0, max_depth=3,\n",
      "              min_child_weight=10, min_delta_step=3, missing=nan,\n",
      "              monotone_constraints=None, n_estimators=100, n_jobs=0,\n",
      "              num_parallel_tree=1, objective='binary:logistic', random_state=0,\n",
      "              reg_alpha=0, reg_lambda=1, scale_pos_weight=1, subsample=0.8,\n",
      "              tree_method=None, validate_parameters=False, verbosity=None)\n",
      "Errors: \n",
      "  0    335\n",
      "-1     42\n",
      "Name: lsd, dtype: int64\n",
      "\n",
      "==============================================================\n",
      "\n",
      "Drug: vsa\n",
      "Index(['age', 'education', 'nscore', 'escore', 'oscore', 'ascore', 'cscore',\n",
      "       'impulsiveness', 'ss', 'monthly_illicit_user', 'amphet', 'benzos',\n",
      "       'cannabis', 'ecstasy', 'nicotine', 'coke', 'meth'],\n",
      "      dtype='object')\n",
      "XGBClassifier(base_score=0.5, booster='gbtree', colsample_bylevel=1,\n",
      "              colsample_bynode=1, colsample_bytree=0.6, gamma=1, gpu_id=-1,\n",
      "              importance_type='gain', interaction_constraints=None,\n",
      "              learning_rate=0.02, max_delta_step=0, max_depth=3,\n",
      "              min_child_weight=5, min_delta_step=3, missing=nan,\n",
      "              monotone_constraints=None, n_estimators=100, n_jobs=0,\n",
      "              num_parallel_tree=1, objective='binary:logistic', random_state=0,\n",
      "              reg_alpha=0, reg_lambda=1, scale_pos_weight=1, subsample=0.8,\n",
      "              tree_method=None, validate_parameters=False, verbosity=None)\n",
      "Errors: \n",
      "  0    365\n",
      "-1     12\n",
      "Name: vsa, dtype: int64\n"
     ]
    }
   ],
   "source": [
    "for drug in lvl4_drugs:\n",
    "    model_features = X_train.assign(monthly_illicit_user = y_train['monthly_illicit_user'].values)\n",
    "    model_response = y_train[drug]\n",
    "    model_test_inp = X_test.assign(monthly_illicit_user = y_test['monthly_illicit_user'].values)\n",
    "    ground_truth = y_test[drug]\n",
    "    \n",
    "    # append results from lvl2 drugs\n",
    "    for lvl2_drug in lvl2_drugs:\n",
    "        model_features[lvl2_drug] = y_train[lvl2_drug]\n",
    "        model_test_inp[lvl2_drug] = y_test[lvl2_drug]\n",
    "    for lvl3_drug in lvl3_drugs:\n",
    "        model_features[lvl3_drug] = y_train[lvl3_drug]\n",
    "        model_test_inp[lvl3_drug] = y_test[lvl3_drug]\n",
    "    \n",
    "    print('\\n==============================================================\\n')\n",
    "    print('Drug:',drug)\n",
    "    print(model_features.columns)\n",
    "\n",
    "    try:\n",
    "        fitted_models_lvl4[drug], c_matrices_lvl4[drug], roc_curves_lvl4[drug] = fit_model(models[drug], model_features, model_response, model_test_inp, ground_truth)\n",
    "    except:\n",
    "        print(\"Model for\",drug,\"already exists.\")\n",
    "        pass"
   ]
  },
  {
   "cell_type": "markdown",
   "metadata": {
    "hidden": true
   },
   "source": [
    "___"
   ]
  },
  {
   "cell_type": "markdown",
   "metadata": {
    "heading_collapsed": true
   },
   "source": [
    "# Model Inspection\n",
    "Examine confusion matrices and ROC scores for each model."
   ]
  },
  {
   "cell_type": "markdown",
   "metadata": {
    "hidden": true
   },
   "source": [
    "Confusion matrices:"
   ]
  },
  {
   "cell_type": "code",
   "execution_count": 24,
   "metadata": {
    "ExecuteTime": {
     "end_time": "2020-05-06T06:06:31.975661Z",
     "start_time": "2020-05-06T06:06:31.938896Z"
    },
    "collapsed": true,
    "hidden": true
   },
   "outputs": [
    {
     "name": "stdout",
     "output_type": "stream",
     "text": [
      "alcohol\n",
      "1\n",
      "[[  0  85]\n",
      " [  0 292]]\n",
      "amphet\n",
      "2\n",
      "[[291  36]\n",
      " [  9  41]]\n",
      "amyl\n",
      "4\n",
      "[[369   0]\n",
      " [  8   0]]\n",
      "benzos\n",
      "2\n",
      "[[319   3]\n",
      " [ 49   6]]\n",
      "caff\n",
      "1\n",
      "[[  0  22]\n",
      " [  0 355]]\n",
      "cannabis\n",
      "2\n",
      "[[170  44]\n",
      " [ 44 119]]\n",
      "choc\n",
      "1\n",
      "[[  0  24]\n",
      " [  0 353]]\n",
      "coke\n",
      "3\n",
      "[[344   2]\n",
      " [ 29   2]]\n",
      "crack\n",
      "4\n",
      "[[376   0]\n",
      " [  1   0]]\n",
      "ecstasy\n",
      "2\n",
      "[[323   0]\n",
      " [ 54   0]]\n",
      "heroin\n",
      "4\n",
      "[[366   0]\n",
      " [ 11   0]]\n",
      "ketamine\n",
      "4\n",
      "[[355   0]\n",
      " [ 22   0]]\n",
      "legalh\n",
      "4\n",
      "[[319   1]\n",
      " [ 55   2]]\n",
      "lsd\n",
      "4\n",
      "[[335   0]\n",
      " [ 42   0]]\n",
      "meth\n",
      "3\n",
      "[[338   1]\n",
      " [ 37   1]]\n",
      "mushrooms\n",
      "4\n",
      "[[342   0]\n",
      " [ 35   0]]\n",
      "nicotine\n",
      "2\n",
      "[[136  63]\n",
      " [ 73 105]]\n",
      "vsa\n",
      "4\n",
      "[[365   0]\n",
      " [ 12   0]]\n",
      "monthly_illicit_user\n",
      "1\n",
      "[[267  19]\n",
      " [ 67  24]]\n"
     ]
    }
   ],
   "source": [
    "for drug in y_train.columns:\n",
    "    print(drug)\n",
    "    \n",
    "    if drug in c_matrices_lvl1.keys():\n",
    "        print(\"1\")\n",
    "        print (c_matrices_lvl1[drug])\n",
    "    if drug in c_matrices_lvl2.keys():\n",
    "        print(\"2\")\n",
    "        print (c_matrices_lvl2[drug])\n",
    "    if drug in c_matrices_lvl3.keys():\n",
    "        print(\"3\")\n",
    "        print (c_matrices_lvl3[drug])\n",
    "    if drug in c_matrices_lvl4.keys():\n",
    "        print(\"4\")\n",
    "        print (c_matrices_lvl4[drug])\n"
   ]
  },
  {
   "cell_type": "markdown",
   "metadata": {
    "hidden": true
   },
   "source": [
    "ROC scores for each model:"
   ]
  },
  {
   "cell_type": "code",
   "execution_count": 25,
   "metadata": {
    "ExecuteTime": {
     "end_time": "2020-05-06T06:06:32.027146Z",
     "start_time": "2020-05-06T06:06:31.982944Z"
    },
    "collapsed": true,
    "hidden": true
   },
   "outputs": [
    {
     "name": "stdout",
     "output_type": "stream",
     "text": [
      "lvl1\n",
      "alcohol 0.5\n",
      "caff 0.5\n",
      "choc 0.5\n",
      "monthly_illicit_user 0.5986513486513486\n",
      "lvl2\n",
      "amphet 0.8549541284403669\n",
      "benzos 0.5498870694522868\n",
      "cannabis 0.7622269365288687\n",
      "ecstasy 0.5\n",
      "nicotine 0.636652362938287\n",
      "lvl3\n",
      "coke 0.5293678911057244\n",
      "meth 0.5116829684831548\n",
      "lvl4\n",
      "amyl 0.5\n",
      "heroin 0.5\n",
      "crack 0.5\n",
      "ketamine 0.5\n",
      "legalh 0.5159813596491228\n",
      "mushrooms 0.5\n",
      "lsd 0.5\n",
      "vsa 0.5\n"
     ]
    }
   ],
   "source": [
    "print('lvl1')\n",
    "for drug in fitted_models_lvl1:\n",
    "    print(drug, roc_curves_lvl1[drug][0])\n",
    "print('lvl2')\n",
    "for drug in lvl2_drugs:\n",
    "    print(drug, roc_curves_lvl2[drug][0])\n",
    "print('lvl3')\n",
    "for drug in lvl3_drugs:\n",
    "    print(drug, roc_curves_lvl3[drug][0])\n",
    "print('lvl4')\n",
    "for drug in lvl4_drugs:\n",
    "    print(drug, roc_curves_lvl4[drug][0])"
   ]
  },
  {
   "cell_type": "code",
   "execution_count": null,
   "metadata": {
    "ExecuteTime": {
     "end_time": "2020-05-06T05:21:34.335100Z",
     "start_time": "2020-05-06T05:21:34.329244Z"
    },
    "hidden": true
   },
   "outputs": [],
   "source": []
  },
  {
   "cell_type": "markdown",
   "metadata": {
    "heading_collapsed": true
   },
   "source": [
    "# Pickle the models\n",
    "Save to ```./data/drugC_final_models.pkl``` and ```./data/drugC_final_roc_scores.pkl```."
   ]
  },
  {
   "cell_type": "markdown",
   "metadata": {
    "hidden": true
   },
   "source": [
    "Aggregate the models together from the ```fitted_models_lvl``` dictionaries"
   ]
  },
  {
   "cell_type": "code",
   "execution_count": 33,
   "metadata": {
    "ExecuteTime": {
     "end_time": "2020-05-06T06:23:34.255214Z",
     "start_time": "2020-05-06T06:23:34.247365Z"
    },
    "hidden": true
   },
   "outputs": [],
   "source": [
    "final_models = {}\n",
    "final_roc_scores = {}\n",
    "for drug in models:\n",
    "    for level_set in [fitted_models_lvl1, fitted_models_lvl2, fitted_models_lvl3, fitted_models_lvl4]:\n",
    "        if drug in level_set.keys():\n",
    "            final_models[drug] = level_set[drug]\n",
    "    for roc_set in [roc_curves_lvl1, roc_curves_lvl2, roc_curves_lvl3, roc_curves_lvl4]:\n",
    "        if drug in roc_set.keys():\n",
    "            final_roc_scores[drug] = roc_set[drug][0]\n"
   ]
  },
  {
   "cell_type": "markdown",
   "metadata": {
    "hidden": true
   },
   "source": [
    " Write each drug classifier to its own pickle (for Heroku)"
   ]
  },
  {
   "cell_type": "code",
   "execution_count": 49,
   "metadata": {
    "ExecuteTime": {
     "end_time": "2020-05-06T07:55:45.202791Z",
     "start_time": "2020-05-06T07:55:44.587259Z"
    },
    "hidden": true
   },
   "outputs": [],
   "source": [
    "for drug in final_models.keys():\n",
    "    with open('./data/'+drug+'_xgb.pkl', 'wb') as handle:\n",
    "        pickle.dump(final_models[drug], handle)\n",
    "    handle.close()"
   ]
  },
  {
   "cell_type": "markdown",
   "metadata": {
    "hidden": true
   },
   "source": [
    "Pickle the models_dict and the final ROC scores"
   ]
  },
  {
   "cell_type": "code",
   "execution_count": 41,
   "metadata": {
    "ExecuteTime": {
     "end_time": "2020-05-06T07:45:26.776832Z",
     "start_time": "2020-05-06T07:45:26.394888Z"
    },
    "hidden": true
   },
   "outputs": [],
   "source": [
    "with open('./data/drugC_final_models.pkl', 'wb') as handle:\n",
    "    pickle.dump(final_models, handle)\n",
    "handle.close()"
   ]
  },
  {
   "cell_type": "code",
   "execution_count": 36,
   "metadata": {
    "ExecuteTime": {
     "end_time": "2020-05-06T06:24:42.243557Z",
     "start_time": "2020-05-06T06:24:42.227206Z"
    },
    "hidden": true
   },
   "outputs": [],
   "source": [
    "with open('./data/drugC_final_roc_scores.pkl', 'wb') as handle:\n",
    "    pickle.dump(final_roc_scores, handle)\n",
    "handle.close()"
   ]
  },
  {
   "cell_type": "markdown",
   "metadata": {},
   "source": [
    "# [&#x21b8; to Top](#START) "
   ]
  }
 ],
 "metadata": {
  "kernelspec": {
   "display_name": "Python [conda env:metis] *",
   "language": "python",
   "name": "conda-env-metis-py"
  },
  "language_info": {
   "codemirror_mode": {
    "name": "ipython",
    "version": 3
   },
   "file_extension": ".py",
   "mimetype": "text/x-python",
   "name": "python",
   "nbconvert_exporter": "python",
   "pygments_lexer": "ipython3",
   "version": "3.7.7"
  },
  "toc": {
   "base_numbering": 1,
   "nav_menu": {
    "height": "280.994px",
    "width": "300px"
   },
   "number_sections": true,
   "sideBar": true,
   "skip_h1_title": false,
   "title_cell": "Table of Contents",
   "title_sidebar": "Contents",
   "toc_cell": false,
   "toc_position": {},
   "toc_section_display": true,
   "toc_window_display": false
  },
  "varInspector": {
   "cols": {
    "lenName": 16,
    "lenType": 16,
    "lenVar": 40
   },
   "kernels_config": {
    "python": {
     "delete_cmd_postfix": "",
     "delete_cmd_prefix": "del ",
     "library": "var_list.py",
     "varRefreshCmd": "print(var_dic_list())"
    },
    "r": {
     "delete_cmd_postfix": ") ",
     "delete_cmd_prefix": "rm(",
     "library": "var_list.r",
     "varRefreshCmd": "cat(var_dic_list()) "
    }
   },
   "types_to_exclude": [
    "module",
    "function",
    "builtin_function_or_method",
    "instance",
    "_Feature"
   ],
   "window_display": false
  }
 },
 "nbformat": 4,
 "nbformat_minor": 4
}
