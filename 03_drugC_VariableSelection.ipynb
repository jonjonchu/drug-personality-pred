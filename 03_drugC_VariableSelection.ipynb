{
 "cells": [
  {
   "cell_type": "markdown",
   "metadata": {},
   "source": [
    "<a id='START'></a>"
   ]
  },
  {
   "cell_type": "markdown",
   "metadata": {
    "heading_collapsed": true
   },
   "source": [
    "# Feature Selection\n",
    "This notebook creates ```feature``` and ```response``` dataframes from SQL database (or one cleaned file if done locally), then bins the reponses (drug usage frequency) into custom cohorts."
   ]
  },
  {
   "cell_type": "code",
   "execution_count": 1,
   "metadata": {
    "ExecuteTime": {
     "end_time": "2020-05-06T05:46:40.657932Z",
     "start_time": "2020-05-06T05:46:39.487883Z"
    },
    "hidden": true
   },
   "outputs": [],
   "source": [
    "import pandas as pd\n",
    "import pickle\n",
    "from drugC_helper_funcs import create_non_light_heavy_cats"
   ]
  },
  {
   "cell_type": "markdown",
   "metadata": {
    "hidden": true
   },
   "source": [
    "**If using SQL:**"
   ]
  },
  {
   "cell_type": "code",
   "execution_count": 2,
   "metadata": {
    "ExecuteTime": {
     "end_time": "2020-05-06T05:46:40.671474Z",
     "start_time": "2020-05-06T05:46:40.665732Z"
    },
    "hidden": true
   },
   "outputs": [],
   "source": [
    "connection_args = {\n",
    "    'host': 'localhost',  # We are connecting to our _local_ version of psql\n",
    "    'dbname': 'drug_consumption',    # DB that we are connecting to\n",
    "    'port': 5432          # port we opened on AWS\n",
    "}"
   ]
  },
  {
   "cell_type": "markdown",
   "metadata": {
    "heading_collapsed": true
   },
   "source": [
    "# Import data\n",
    "Access SQL database ```drug_consumption``` (see ```01_drugC_sqlDatabaseSetup.ipynb```) \n",
    "or read ```./data/drug_consumption_cleaned.pkl```."
   ]
  },
  {
   "cell_type": "code",
   "execution_count": 3,
   "metadata": {
    "ExecuteTime": {
     "end_time": "2020-05-06T05:46:40.688709Z",
     "start_time": "2020-05-06T05:46:40.678820Z"
    },
    "hidden": true
   },
   "outputs": [],
   "source": [
    "sql = True"
   ]
  },
  {
   "cell_type": "code",
   "execution_count": 4,
   "metadata": {
    "ExecuteTime": {
     "end_time": "2020-05-06T05:46:41.354848Z",
     "start_time": "2020-05-06T05:46:40.695374Z"
    },
    "hidden": true
   },
   "outputs": [],
   "source": [
    "if sql:\n",
    "    import psycopg2 as pg\n",
    "    import pandas.io.sql as pd_sql\n",
    "    connection = pg.connect(**connection_args)"
   ]
  },
  {
   "cell_type": "code",
   "execution_count": 5,
   "metadata": {
    "ExecuteTime": {
     "end_time": "2020-05-06T05:46:41.372023Z",
     "start_time": "2020-05-06T05:46:41.358722Z"
    },
    "hidden": true
   },
   "outputs": [],
   "source": [
    "if not sql:\n",
    "    df = pd.read_pickle('./data/drug_consumption_cleaned.pkl')\n",
    "    df"
   ]
  },
  {
   "cell_type": "markdown",
   "metadata": {
    "heading_collapsed": true
   },
   "source": [
    "# Features DataFrame\n",
    "Drop ```'country'```, ```'ethnicity'```, and ```'gender'```."
   ]
  },
  {
   "cell_type": "code",
   "execution_count": 6,
   "metadata": {
    "ExecuteTime": {
     "end_time": "2020-05-06T05:46:42.066784Z",
     "start_time": "2020-05-06T05:46:41.375499Z"
    },
    "hidden": true
   },
   "outputs": [],
   "source": [
    "if sql:\n",
    "    query = \"SELECT id, age, education, nscore, escore, oscore, ascore, cscore, impulsiveness, ss FROM features;\"\n",
    "    df_features = pd.DataFrame(pd_sql.read_sql(query, connection))\n",
    "    df_features = df_features.set_index(df_features['id']).drop(columns='id')\n",
    "    df_features.head(3)"
   ]
  },
  {
   "cell_type": "code",
   "execution_count": 7,
   "metadata": {
    "ExecuteTime": {
     "end_time": "2020-05-06T05:46:42.081895Z",
     "start_time": "2020-05-06T05:46:42.073904Z"
    },
    "hidden": true
   },
   "outputs": [],
   "source": [
    "if not sql:\n",
    "    all_features = df.columns[:12]\n",
    "    df_features_all = df[all_features]\n",
    "    # drop unnecessary features\n",
    "    df_features = df_features_all.drop(columns = ['country','ethnicity','gender'])\n",
    "    df_features.head(3)"
   ]
  },
  {
   "cell_type": "markdown",
   "metadata": {
    "heading_collapsed": true
   },
   "source": [
    "# Responses Dataframe\n",
    "Drop ```'semer'```, the fictitious drug. Add column tracking use of illicit drugs in the past month."
   ]
  },
  {
   "cell_type": "code",
   "execution_count": 8,
   "metadata": {
    "ExecuteTime": {
     "end_time": "2020-05-06T05:46:42.158216Z",
     "start_time": "2020-05-06T05:46:42.089887Z"
    },
    "hidden": true
   },
   "outputs": [],
   "source": [
    "if sql:\n",
    "    query = \"SELECT * FROM drug_data;\"\n",
    "\n",
    "    df_responses = pd.DataFrame(pd_sql.read_sql(query, connection))\n",
    "    df_responses = df_responses.set_index(df_responses['id']).drop(columns=['id','semer'])\n",
    "    drug_list = df_responses.columns\n",
    "    df_responses.head(3)"
   ]
  },
  {
   "cell_type": "code",
   "execution_count": 9,
   "metadata": {
    "ExecuteTime": {
     "end_time": "2020-05-06T05:46:42.173840Z",
     "start_time": "2020-05-06T05:46:42.161484Z"
    },
    "hidden": true
   },
   "outputs": [],
   "source": [
    "if not sql:\n",
    "    drug_list = df.columns[12:]\n",
    "    drug_list = drug_list.drop('semer')\n",
    "    df_responses = df[drug_list]\n",
    "    df_responses.head(3)"
   ]
  },
  {
   "cell_type": "markdown",
   "metadata": {
    "heading_collapsed": true,
    "hidden": true
   },
   "source": [
    "## Create Monthly Illicit User column"
   ]
  },
  {
   "cell_type": "code",
   "execution_count": 10,
   "metadata": {
    "ExecuteTime": {
     "end_time": "2020-05-06T05:46:42.222858Z",
     "start_time": "2020-05-06T05:46:42.194033Z"
    },
    "hidden": true
   },
   "outputs": [],
   "source": [
    "illicit_drugs = ['amphet','amyl','benzos','cannabis','coke','crack','ecstasy','heroin',\n",
    "              'ketamine','legalh','lsd','meth','mushrooms','vsa']\n",
    "\n",
    "nonillicit_drugs = ['alcohol','caff','choc','nicotine']"
   ]
  },
  {
   "cell_type": "code",
   "execution_count": 11,
   "metadata": {
    "ExecuteTime": {
     "end_time": "2020-05-06T05:46:42.245456Z",
     "start_time": "2020-05-06T05:46:42.234186Z"
    },
    "hidden": true
   },
   "outputs": [],
   "source": [
    "def determine_monthly_illicit_user(row):\n",
    "    for drug in illicit_drugs:\n",
    "        if (row[drug] >= 3):\n",
    "            return 1\n",
    "            \n",
    "        else: return 0"
   ]
  },
  {
   "cell_type": "code",
   "execution_count": 12,
   "metadata": {
    "ExecuteTime": {
     "end_time": "2020-05-06T05:46:42.321690Z",
     "start_time": "2020-05-06T05:46:42.251275Z"
    },
    "hidden": true
   },
   "outputs": [
    {
     "data": {
      "text/plain": [
       "0    1449\n",
       "1     436\n",
       "Name: monthly_illicit_user, dtype: int64"
      ]
     },
     "execution_count": 12,
     "metadata": {},
     "output_type": "execute_result"
    }
   ],
   "source": [
    "df_responses['monthly_illicit_user'] = df_responses.apply(determine_monthly_illicit_user, axis=1)\n",
    "df_responses['monthly_illicit_user'].value_counts()"
   ]
  },
  {
   "cell_type": "markdown",
   "metadata": {
    "heading_collapsed": true
   },
   "source": [
    "# Define user ranges for each drug\n",
    "Monthly cohorts for all drugs."
   ]
  },
  {
   "cell_type": "markdown",
   "metadata": {
    "hidden": true
   },
   "source": [
    "Define ranges of drug use for each drug. Drug usage ranges from 0 to 6. EDA showed different personality types are correlated to different frequencies of drug use, so custom cohorts can be created for each drug that divide respondents into distinct personality traits."
   ]
  },
  {
   "cell_type": "code",
   "execution_count": 13,
   "metadata": {
    "ExecuteTime": {
     "end_time": "2020-05-06T05:46:42.337243Z",
     "start_time": "2020-05-06T05:46:42.326432Z"
    },
    "hidden": true
   },
   "outputs": [],
   "source": [
    "# monthly cohorts\n",
    "decade_cohort = [0,2]\n",
    "month_cohort = [0,4]\n",
    "drug_cohorts = {'alcohol': month_cohort,\n",
    "                'amphet': month_cohort,\n",
    "                'amyl': month_cohort,\n",
    "                'benzos': month_cohort,\n",
    "                'caff': month_cohort,\n",
    "                'cannabis': month_cohort,\n",
    "                'choc': month_cohort,\n",
    "                'coke': month_cohort,\n",
    "                'crack': month_cohort,\n",
    "                'ecstasy': month_cohort,\n",
    "                'heroin': month_cohort,\n",
    "                'ketamine': month_cohort,\n",
    "                'legalh': month_cohort,\n",
    "                'lsd': month_cohort,\n",
    "                'meth': month_cohort,\n",
    "                'mushrooms': month_cohort,\n",
    "                'nicotine': month_cohort,\n",
    "                'vsa': month_cohort,\n",
    "               }"
   ]
  },
  {
   "cell_type": "code",
   "execution_count": 14,
   "metadata": {
    "ExecuteTime": {
     "end_time": "2020-05-06T05:46:42.646128Z",
     "start_time": "2020-05-06T05:46:42.340993Z"
    },
    "hidden": true
   },
   "outputs": [
    {
     "data": {
      "text/html": [
       "<div>\n",
       "<style scoped>\n",
       "    .dataframe tbody tr th:only-of-type {\n",
       "        vertical-align: middle;\n",
       "    }\n",
       "\n",
       "    .dataframe tbody tr th {\n",
       "        vertical-align: top;\n",
       "    }\n",
       "\n",
       "    .dataframe thead th {\n",
       "        text-align: right;\n",
       "    }\n",
       "</style>\n",
       "<table border=\"1\" class=\"dataframe\">\n",
       "  <thead>\n",
       "    <tr style=\"text-align: right;\">\n",
       "      <th></th>\n",
       "      <th>alcohol</th>\n",
       "      <th>amphet</th>\n",
       "      <th>amyl</th>\n",
       "      <th>benzos</th>\n",
       "      <th>caff</th>\n",
       "      <th>cannabis</th>\n",
       "      <th>choc</th>\n",
       "      <th>coke</th>\n",
       "      <th>crack</th>\n",
       "      <th>ecstasy</th>\n",
       "      <th>heroin</th>\n",
       "      <th>ketamine</th>\n",
       "      <th>legalh</th>\n",
       "      <th>lsd</th>\n",
       "      <th>meth</th>\n",
       "      <th>mushrooms</th>\n",
       "      <th>nicotine</th>\n",
       "      <th>vsa</th>\n",
       "      <th>monthly_illicit_user</th>\n",
       "    </tr>\n",
       "    <tr>\n",
       "      <th>id</th>\n",
       "      <th></th>\n",
       "      <th></th>\n",
       "      <th></th>\n",
       "      <th></th>\n",
       "      <th></th>\n",
       "      <th></th>\n",
       "      <th></th>\n",
       "      <th></th>\n",
       "      <th></th>\n",
       "      <th></th>\n",
       "      <th></th>\n",
       "      <th></th>\n",
       "      <th></th>\n",
       "      <th></th>\n",
       "      <th></th>\n",
       "      <th></th>\n",
       "      <th></th>\n",
       "      <th></th>\n",
       "      <th></th>\n",
       "    </tr>\n",
       "  </thead>\n",
       "  <tbody>\n",
       "    <tr>\n",
       "      <th>860</th>\n",
       "      <td>1</td>\n",
       "      <td>1</td>\n",
       "      <td>0</td>\n",
       "      <td>1</td>\n",
       "      <td>1</td>\n",
       "      <td>1</td>\n",
       "      <td>1</td>\n",
       "      <td>1</td>\n",
       "      <td>1</td>\n",
       "      <td>1</td>\n",
       "      <td>1</td>\n",
       "      <td>1</td>\n",
       "      <td>0</td>\n",
       "      <td>0</td>\n",
       "      <td>1</td>\n",
       "      <td>0</td>\n",
       "      <td>1</td>\n",
       "      <td>0</td>\n",
       "      <td>1</td>\n",
       "    </tr>\n",
       "    <tr>\n",
       "      <th>1401</th>\n",
       "      <td>1</td>\n",
       "      <td>0</td>\n",
       "      <td>0</td>\n",
       "      <td>0</td>\n",
       "      <td>1</td>\n",
       "      <td>0</td>\n",
       "      <td>1</td>\n",
       "      <td>0</td>\n",
       "      <td>0</td>\n",
       "      <td>0</td>\n",
       "      <td>0</td>\n",
       "      <td>0</td>\n",
       "      <td>0</td>\n",
       "      <td>0</td>\n",
       "      <td>0</td>\n",
       "      <td>0</td>\n",
       "      <td>1</td>\n",
       "      <td>0</td>\n",
       "      <td>0</td>\n",
       "    </tr>\n",
       "    <tr>\n",
       "      <th>1693</th>\n",
       "      <td>1</td>\n",
       "      <td>0</td>\n",
       "      <td>0</td>\n",
       "      <td>0</td>\n",
       "      <td>1</td>\n",
       "      <td>0</td>\n",
       "      <td>1</td>\n",
       "      <td>0</td>\n",
       "      <td>0</td>\n",
       "      <td>0</td>\n",
       "      <td>0</td>\n",
       "      <td>0</td>\n",
       "      <td>0</td>\n",
       "      <td>0</td>\n",
       "      <td>0</td>\n",
       "      <td>0</td>\n",
       "      <td>0</td>\n",
       "      <td>0</td>\n",
       "      <td>0</td>\n",
       "    </tr>\n",
       "    <tr>\n",
       "      <th>1682</th>\n",
       "      <td>1</td>\n",
       "      <td>0</td>\n",
       "      <td>0</td>\n",
       "      <td>0</td>\n",
       "      <td>1</td>\n",
       "      <td>0</td>\n",
       "      <td>1</td>\n",
       "      <td>0</td>\n",
       "      <td>0</td>\n",
       "      <td>0</td>\n",
       "      <td>0</td>\n",
       "      <td>0</td>\n",
       "      <td>0</td>\n",
       "      <td>0</td>\n",
       "      <td>0</td>\n",
       "      <td>0</td>\n",
       "      <td>0</td>\n",
       "      <td>0</td>\n",
       "      <td>0</td>\n",
       "    </tr>\n",
       "    <tr>\n",
       "      <th>544</th>\n",
       "      <td>1</td>\n",
       "      <td>0</td>\n",
       "      <td>0</td>\n",
       "      <td>1</td>\n",
       "      <td>1</td>\n",
       "      <td>1</td>\n",
       "      <td>1</td>\n",
       "      <td>0</td>\n",
       "      <td>0</td>\n",
       "      <td>0</td>\n",
       "      <td>0</td>\n",
       "      <td>0</td>\n",
       "      <td>1</td>\n",
       "      <td>0</td>\n",
       "      <td>0</td>\n",
       "      <td>0</td>\n",
       "      <td>1</td>\n",
       "      <td>0</td>\n",
       "      <td>0</td>\n",
       "    </tr>\n",
       "    <tr>\n",
       "      <th>1389</th>\n",
       "      <td>1</td>\n",
       "      <td>1</td>\n",
       "      <td>0</td>\n",
       "      <td>1</td>\n",
       "      <td>1</td>\n",
       "      <td>1</td>\n",
       "      <td>1</td>\n",
       "      <td>0</td>\n",
       "      <td>0</td>\n",
       "      <td>0</td>\n",
       "      <td>0</td>\n",
       "      <td>0</td>\n",
       "      <td>0</td>\n",
       "      <td>0</td>\n",
       "      <td>0</td>\n",
       "      <td>1</td>\n",
       "      <td>1</td>\n",
       "      <td>0</td>\n",
       "      <td>1</td>\n",
       "    </tr>\n",
       "    <tr>\n",
       "      <th>165</th>\n",
       "      <td>0</td>\n",
       "      <td>0</td>\n",
       "      <td>0</td>\n",
       "      <td>0</td>\n",
       "      <td>0</td>\n",
       "      <td>0</td>\n",
       "      <td>1</td>\n",
       "      <td>0</td>\n",
       "      <td>0</td>\n",
       "      <td>0</td>\n",
       "      <td>0</td>\n",
       "      <td>0</td>\n",
       "      <td>0</td>\n",
       "      <td>0</td>\n",
       "      <td>0</td>\n",
       "      <td>0</td>\n",
       "      <td>0</td>\n",
       "      <td>0</td>\n",
       "      <td>0</td>\n",
       "    </tr>\n",
       "  </tbody>\n",
       "</table>\n",
       "</div>"
      ],
      "text/plain": [
       "      alcohol  amphet  amyl  benzos  caff  cannabis  choc  coke  crack  \\\n",
       "id                                                                       \n",
       "860         1       1     0       1     1         1     1     1      1   \n",
       "1401        1       0     0       0     1         0     1     0      0   \n",
       "1693        1       0     0       0     1         0     1     0      0   \n",
       "1682        1       0     0       0     1         0     1     0      0   \n",
       "544         1       0     0       1     1         1     1     0      0   \n",
       "1389        1       1     0       1     1         1     1     0      0   \n",
       "165         0       0     0       0     0         0     1     0      0   \n",
       "\n",
       "      ecstasy  heroin  ketamine  legalh  lsd  meth  mushrooms  nicotine  vsa  \\\n",
       "id                                                                             \n",
       "860         1       1         1       0    0     1          0         1    0   \n",
       "1401        0       0         0       0    0     0          0         1    0   \n",
       "1693        0       0         0       0    0     0          0         0    0   \n",
       "1682        0       0         0       0    0     0          0         0    0   \n",
       "544         0       0         0       1    0     0          0         1    0   \n",
       "1389        0       0         0       0    0     0          1         1    0   \n",
       "165         0       0         0       0    0     0          0         0    0   \n",
       "\n",
       "      monthly_illicit_user  \n",
       "id                          \n",
       "860                      1  \n",
       "1401                     0  \n",
       "1693                     0  \n",
       "1682                     0  \n",
       "544                      0  \n",
       "1389                     1  \n",
       "165                      0  "
      ]
     },
     "execution_count": 14,
     "metadata": {},
     "output_type": "execute_result"
    }
   ],
   "source": [
    "for drug in drug_list:\n",
    "    df_responses[drug] = df_responses[drug].apply(create_non_light_heavy_cats, cohorts=drug_cohorts[drug])\n",
    "df_responses.sample(7)"
   ]
  },
  {
   "cell_type": "markdown",
   "metadata": {
    "heading_collapsed": true
   },
   "source": [
    "# Save responses and features as pickle\n",
    "```./data/drugC_features.pkl``` and ```./data/drugC_responses.pkl```."
   ]
  },
  {
   "cell_type": "code",
   "execution_count": 15,
   "metadata": {
    "ExecuteTime": {
     "end_time": "2020-05-06T05:46:44.459472Z",
     "start_time": "2020-05-06T05:46:42.655068Z"
    },
    "hidden": true
   },
   "outputs": [],
   "source": [
    "pd.to_pickle(df_features, './data/drugC_features.pkl')"
   ]
  },
  {
   "cell_type": "code",
   "execution_count": 16,
   "metadata": {
    "ExecuteTime": {
     "end_time": "2020-05-06T05:46:44.481794Z",
     "start_time": "2020-05-06T05:46:44.463213Z"
    },
    "hidden": true
   },
   "outputs": [],
   "source": [
    "pd.to_pickle(df_responses, './data/drugC_responses.pkl')"
   ]
  },
  {
   "cell_type": "code",
   "execution_count": 17,
   "metadata": {
    "ExecuteTime": {
     "end_time": "2020-05-06T05:46:44.502017Z",
     "start_time": "2020-05-06T05:46:44.485494Z"
    },
    "hidden": true
   },
   "outputs": [],
   "source": [
    "with open('./data/drugC_cohorts.pkl', 'wb') as handle:\n",
    "    pickle.dump(drug_cohorts, handle, protocol=pickle.HIGHEST_PROTOCOL)"
   ]
  },
  {
   "cell_type": "markdown",
   "metadata": {
    "ExecuteTime": {
     "end_time": "2020-05-02T22:33:54.718740Z",
     "start_time": "2020-05-02T22:33:54.666398Z"
    }
   },
   "source": [
    "# [&#x21b8; to Top](#START) "
   ]
  },
  {
   "cell_type": "code",
   "execution_count": null,
   "metadata": {},
   "outputs": [],
   "source": []
  }
 ],
 "metadata": {
  "kernelspec": {
   "display_name": "Python 3",
   "language": "python",
   "name": "python3"
  },
  "language_info": {
   "codemirror_mode": {
    "name": "ipython",
    "version": 3
   },
   "file_extension": ".py",
   "mimetype": "text/x-python",
   "name": "python",
   "nbconvert_exporter": "python",
   "pygments_lexer": "ipython3",
   "version": "3.7.7"
  },
  "toc": {
   "base_numbering": 1,
   "nav_menu": {
    "height": "178.991px",
    "width": "456.989px"
   },
   "number_sections": true,
   "sideBar": true,
   "skip_h1_title": false,
   "title_cell": "Table of Contents",
   "title_sidebar": "Contents",
   "toc_cell": false,
   "toc_position": {},
   "toc_section_display": true,
   "toc_window_display": false
  },
  "varInspector": {
   "cols": {
    "lenName": 16,
    "lenType": 16,
    "lenVar": 40
   },
   "kernels_config": {
    "python": {
     "delete_cmd_postfix": "",
     "delete_cmd_prefix": "del ",
     "library": "var_list.py",
     "varRefreshCmd": "print(var_dic_list())"
    },
    "r": {
     "delete_cmd_postfix": ") ",
     "delete_cmd_prefix": "rm(",
     "library": "var_list.r",
     "varRefreshCmd": "cat(var_dic_list()) "
    }
   },
   "types_to_exclude": [
    "module",
    "function",
    "builtin_function_or_method",
    "instance",
    "_Feature"
   ],
   "window_display": false
  }
 },
 "nbformat": 4,
 "nbformat_minor": 4
}
